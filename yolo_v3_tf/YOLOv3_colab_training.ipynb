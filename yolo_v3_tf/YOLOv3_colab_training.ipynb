{
 "cells": [
  {
   "cell_type": "markdown",
   "metadata": {
    "colab_type": "text",
    "id": "twluDsqOaqRW"
   },
   "source": [
    "\n",
    "========================================================<br>\n",
    "<br>\n",
    "   File name   : YOLOv3_colab_training.ipynb<br>\n",
    "   Author      : PyLessons<br>\n",
    "   Created date: 2020-05-26<br>\n",
    "   Website     : https://pylessons.com/YOLOv3-TF2-GoogleColab<br>\n",
    "   GitHub      : https://github.com/pythonlessons/TensorFlow-2.x-YOLOv3<br>\n",
    "   Description : Train custom model on Google colab tutorial<br>\n",
    "<br>\n",
    "================================================================\n",
    "\n",
    "\n",
    "**Open this notebook from google drive**<br>\n",
    "**Go to \"Edit\" -> \"Notebook settings\" and enable GPU.**\n"
   ]
  },
  {
   "cell_type": "code",
   "execution_count": 1,
   "metadata": {
    "colab": {
     "base_uri": "https://localhost:8080/",
     "height": 306
    },
    "colab_type": "code",
    "executionInfo": {
     "elapsed": 4089,
     "status": "ok",
     "timestamp": 1590584809036,
     "user": {
      "displayName": "Python Lessons",
      "photoUrl": "https://lh3.googleusercontent.com/a-/AOh14GgMQmMhFapKcavl337-vY17yrbowBHBlZQ5qYQv=s64",
      "userId": "12382394757900236362"
     },
     "user_tz": -180
    },
    "id": "srBiJiFEaKl1",
    "outputId": "895fe688-a0a2-4920-fc8b-85637ba04133"
   },
   "outputs": [
    {
     "name": "stdout",
     "output_type": "stream",
     "text": [
      "/bin/sh: nvidia-smi: command not found\r\n"
     ]
    }
   ],
   "source": [
    "# Check if NVIDIA GPU is enabled\n",
    "!nvidia-smi"
   ]
  },
  {
   "cell_type": "markdown",
   "metadata": {
    "colab_type": "text",
    "id": "sj3eAw1OXOnB"
   },
   "source": [
    "**Connect and authorize google drive with google colab:**"
   ]
  },
  {
   "cell_type": "code",
   "execution_count": 2,
   "metadata": {
    "colab": {
     "base_uri": "https://localhost:8080/",
     "height": 139
    },
    "colab_type": "code",
    "executionInfo": {
     "elapsed": 28981,
     "status": "ok",
     "timestamp": 1590584890573,
     "user": {
      "displayName": "Python Lessons",
      "photoUrl": "https://lh3.googleusercontent.com/a-/AOh14GgMQmMhFapKcavl337-vY17yrbowBHBlZQ5qYQv=s64",
      "userId": "12382394757900236362"
     },
     "user_tz": -180
    },
    "id": "PjjcQSpya_FR",
    "outputId": "8d9a74f4-316f-44e1-b6a6-d4ee3a6406f7"
   },
   "outputs": [
    {
     "ename": "ModuleNotFoundError",
     "evalue": "No module named 'google.colab'",
     "output_type": "error",
     "traceback": [
      "\u001b[0;31m---------------------------------------------------------------------------\u001b[0m",
      "\u001b[0;31mModuleNotFoundError\u001b[0m                       Traceback (most recent call last)",
      "\u001b[0;32m<ipython-input-2-61736c15f924>\u001b[0m in \u001b[0;36m<module>\u001b[0;34m\u001b[0m\n\u001b[0;32m----> 1\u001b[0;31m \u001b[0;32mfrom\u001b[0m \u001b[0mgoogle\u001b[0m\u001b[0;34m.\u001b[0m\u001b[0mcolab\u001b[0m \u001b[0;32mimport\u001b[0m \u001b[0mdrive\u001b[0m\u001b[0;34m\u001b[0m\u001b[0;34m\u001b[0m\u001b[0m\n\u001b[0m\u001b[1;32m      2\u001b[0m \u001b[0mdrive\u001b[0m\u001b[0;34m.\u001b[0m\u001b[0mmount\u001b[0m\u001b[0;34m(\u001b[0m\u001b[0;34m'/content/gdrive'\u001b[0m\u001b[0;34m)\u001b[0m\u001b[0;34m\u001b[0m\u001b[0;34m\u001b[0m\u001b[0m\n\u001b[1;32m      3\u001b[0m \u001b[0mget_ipython\u001b[0m\u001b[0;34m(\u001b[0m\u001b[0;34m)\u001b[0m\u001b[0;34m.\u001b[0m\u001b[0msystem\u001b[0m\u001b[0;34m(\u001b[0m\u001b[0;34m'ls'\u001b[0m\u001b[0;34m)\u001b[0m\u001b[0;34m\u001b[0m\u001b[0;34m\u001b[0m\u001b[0m\n",
      "\u001b[0;31mModuleNotFoundError\u001b[0m: No module named 'google.colab'"
     ]
    }
   ],
   "source": [
    "from google.colab import drive\n",
    "drive.mount('/content/gdrive')\n",
    "!ls"
   ]
  },
  {
   "cell_type": "markdown",
   "metadata": {
    "colab_type": "text",
    "id": "h5GywMhIKCd0"
   },
   "source": [
    "**Open our project \"TensorFlow-2.x-YOLOv3\" direcotry in google drive:**"
   ]
  },
  {
   "cell_type": "code",
   "execution_count": 3,
   "metadata": {
    "colab": {
     "base_uri": "https://localhost:8080/",
     "height": 119
    },
    "colab_type": "code",
    "executionInfo": {
     "elapsed": 1958,
     "status": "ok",
     "timestamp": 1590584966366,
     "user": {
      "displayName": "Python Lessons",
      "photoUrl": "https://lh3.googleusercontent.com/a-/AOh14GgMQmMhFapKcavl337-vY17yrbowBHBlZQ5qYQv=s64",
      "userId": "12382394757900236362"
     },
     "user_tz": -180
    },
    "id": "iYM4wmy-cFlK",
    "outputId": "f7aa41fc-1325-4cce-abb8-ba0063c66cea"
   },
   "outputs": [
    {
     "name": "stdout",
     "output_type": "stream",
     "text": [
      "[Errno 2] No such file or directory: 'gdrive/My Drive/TensorFlow-2.x-YOLOv3/'\n",
      "/Users/gandalf/Projects/osmo/ML/TensorFlow-2.x-YOLOv3\n",
      "\u001b[34mIMAGES\u001b[m\u001b[m                      \u001b[34mmnist\u001b[m\u001b[m\r\n",
      "README.md                   \u001b[34mmodel_data\u001b[m\u001b[m\r\n",
      "YOLOv3_colab_training.ipynb requirements.txt\r\n",
      "\u001b[34mcheckpoints\u001b[m\u001b[m                 \u001b[34mtools\u001b[m\u001b[m\r\n",
      "detect_mnist.py             train.py\r\n",
      "detection_custom.py         \u001b[34myolov3\u001b[m\u001b[m\r\n",
      "detection_demo.py\r\n"
     ]
    }
   ],
   "source": [
    "%cd gdrive/My\\ Drive/TensorFlow-2.x-YOLOv3/\n",
    "!ls"
   ]
  },
  {
   "cell_type": "markdown",
   "metadata": {
    "colab_type": "text",
    "id": "24u5FY2ZKbrc"
   },
   "source": [
    "**Install all required libraries for our project:**"
   ]
  },
  {
   "cell_type": "code",
   "execution_count": 2,
   "metadata": {
    "colab": {
     "base_uri": "https://localhost:8080/",
     "height": 34
    },
    "colab_type": "code",
    "executionInfo": {
     "elapsed": 2960,
     "status": "ok",
     "timestamp": 1589389207899,
     "user": {
      "displayName": "Python Lessons",
      "photoUrl": "https://lh3.googleusercontent.com/a-/AOh14GgMQmMhFapKcavl337-vY17yrbowBHBlZQ5qYQv=s64",
      "userId": "12382394757900236362"
     },
     "user_tz": -180
    },
    "id": "adhpOaKT9lWC",
    "outputId": "1a9c7668-e1f2-4b59-8565-a08342defa05"
   },
   "outputs": [
    {
     "name": "stdout",
     "output_type": "stream",
     "text": [
      "Requirement already satisfied: numpy>=1.18.2 in /usr/local/lib/python3.7/site-packages (from -r ./requirements.txt (line 1)) (1.19.0)\n",
      "Requirement already satisfied: scipy>=1.4.1 in /Users/gandalf/Library/Python/3.7/lib/python/site-packages (from -r ./requirements.txt (line 2)) (1.4.1)\n",
      "Requirement already satisfied: seaborn in /usr/local/lib/python3.7/site-packages (from -r ./requirements.txt (line 3)) (0.10.1)\n",
      "Requirement already satisfied: tensorflow==2.* in /usr/local/lib/python3.7/site-packages (from -r ./requirements.txt (line 4)) (2.2.0)\n",
      "Requirement already satisfied: opencv-python in /usr/local/lib/python3.7/site-packages (from -r ./requirements.txt (line 5)) (4.2.0.34)\n",
      "Requirement already satisfied: tqdm==4.43.0 in /usr/local/lib/python3.7/site-packages (from -r ./requirements.txt (line 6)) (4.43.0)\n",
      "Requirement already satisfied: pandas in /Users/gandalf/Library/Python/3.7/lib/python/site-packages (from -r ./requirements.txt (line 7)) (1.0.3)\n",
      "Requirement already satisfied: awscli in /usr/local/lib/python3.7/site-packages (from -r ./requirements.txt (line 8)) (1.18.84)\n",
      "Requirement already satisfied: urllib3 in /Users/gandalf/Library/Python/3.7/lib/python/site-packages (from -r ./requirements.txt (line 9)) (1.25.9)\n",
      "Requirement already satisfied: matplotlib>=2.1.2 in /Users/gandalf/Library/Python/3.7/lib/python/site-packages (from seaborn->-r ./requirements.txt (line 3)) (3.2.1)\n",
      "Requirement already satisfied: h5py<2.11.0,>=2.10.0 in /usr/local/lib/python3.7/site-packages (from tensorflow==2.*->-r ./requirements.txt (line 4)) (2.10.0)\n",
      "Requirement already satisfied: termcolor>=1.1.0 in /usr/local/lib/python3.7/site-packages (from tensorflow==2.*->-r ./requirements.txt (line 4)) (1.1.0)\n",
      "Requirement already satisfied: six>=1.12.0 in /Users/gandalf/Library/Python/3.7/lib/python/site-packages (from tensorflow==2.*->-r ./requirements.txt (line 4)) (1.14.0)\n",
      "Requirement already satisfied: tensorboard<2.3.0,>=2.2.0 in /usr/local/lib/python3.7/site-packages (from tensorflow==2.*->-r ./requirements.txt (line 4)) (2.2.2)\n",
      "Requirement already satisfied: wheel>=0.26; python_version >= \"3\" in /usr/local/lib/python3.7/site-packages (from tensorflow==2.*->-r ./requirements.txt (line 4)) (0.34.2)\n",
      "Requirement already satisfied: keras-preprocessing>=1.1.0 in /usr/local/lib/python3.7/site-packages (from tensorflow==2.*->-r ./requirements.txt (line 4)) (1.1.2)\n",
      "Requirement already satisfied: opt-einsum>=2.3.2 in /usr/local/lib/python3.7/site-packages (from tensorflow==2.*->-r ./requirements.txt (line 4)) (3.2.1)\n",
      "Requirement already satisfied: grpcio>=1.8.6 in /usr/local/lib/python3.7/site-packages (from tensorflow==2.*->-r ./requirements.txt (line 4)) (1.29.0)\n",
      "Requirement already satisfied: google-pasta>=0.1.8 in /usr/local/lib/python3.7/site-packages (from tensorflow==2.*->-r ./requirements.txt (line 4)) (0.2.0)\n",
      "Requirement already satisfied: protobuf>=3.8.0 in /usr/local/lib/python3.7/site-packages (from tensorflow==2.*->-r ./requirements.txt (line 4)) (3.12.2)\n",
      "Requirement already satisfied: wrapt>=1.11.1 in /Users/gandalf/Library/Python/3.7/lib/python/site-packages (from tensorflow==2.*->-r ./requirements.txt (line 4)) (1.11.2)\n",
      "Requirement already satisfied: astunparse==1.6.3 in /usr/local/lib/python3.7/site-packages (from tensorflow==2.*->-r ./requirements.txt (line 4)) (1.6.3)\n",
      "Requirement already satisfied: tensorflow-estimator<2.3.0,>=2.2.0 in /usr/local/lib/python3.7/site-packages (from tensorflow==2.*->-r ./requirements.txt (line 4)) (2.2.0)\n",
      "Requirement already satisfied: absl-py>=0.7.0 in /usr/local/lib/python3.7/site-packages (from tensorflow==2.*->-r ./requirements.txt (line 4)) (0.9.0)\n",
      "Requirement already satisfied: gast==0.3.3 in /usr/local/lib/python3.7/site-packages (from tensorflow==2.*->-r ./requirements.txt (line 4)) (0.3.3)\n",
      "Requirement already satisfied: pytz>=2017.2 in /Users/gandalf/Library/Python/3.7/lib/python/site-packages (from pandas->-r ./requirements.txt (line 7)) (2019.3)\n",
      "Requirement already satisfied: python-dateutil>=2.6.1 in /Users/gandalf/Library/Python/3.7/lib/python/site-packages (from pandas->-r ./requirements.txt (line 7)) (2.8.1)\n",
      "Requirement already satisfied: docutils<0.16,>=0.10 in /usr/local/lib/python3.7/site-packages (from awscli->-r ./requirements.txt (line 8)) (0.15.2)\n",
      "Requirement already satisfied: s3transfer<0.4.0,>=0.3.0 in /usr/local/lib/python3.7/site-packages (from awscli->-r ./requirements.txt (line 8)) (0.3.3)\n",
      "Requirement already satisfied: PyYAML<5.4,>=3.10; python_version != \"3.4\" in /usr/local/lib/python3.7/site-packages (from awscli->-r ./requirements.txt (line 8)) (5.3.1)\n",
      "Requirement already satisfied: rsa<=3.5.0,>=3.1.2 in /usr/local/lib/python3.7/site-packages (from awscli->-r ./requirements.txt (line 8)) (3.4.2)\n",
      "Requirement already satisfied: botocore==1.17.7 in /usr/local/lib/python3.7/site-packages (from awscli->-r ./requirements.txt (line 8)) (1.17.7)\n",
      "Requirement already satisfied: colorama<0.4.4,>=0.2.5; python_version != \"3.4\" in /usr/local/lib/python3.7/site-packages (from awscli->-r ./requirements.txt (line 8)) (0.4.3)\n",
      "Requirement already satisfied: kiwisolver>=1.0.1 in /Users/gandalf/Library/Python/3.7/lib/python/site-packages (from matplotlib>=2.1.2->seaborn->-r ./requirements.txt (line 3)) (1.2.0)\n",
      "Requirement already satisfied: cycler>=0.10 in /Users/gandalf/Library/Python/3.7/lib/python/site-packages (from matplotlib>=2.1.2->seaborn->-r ./requirements.txt (line 3)) (0.10.0)\n",
      "Requirement already satisfied: pyparsing!=2.0.4,!=2.1.2,!=2.1.6,>=2.0.1 in /Users/gandalf/Library/Python/3.7/lib/python/site-packages (from matplotlib>=2.1.2->seaborn->-r ./requirements.txt (line 3)) (2.4.7)\n",
      "Requirement already satisfied: google-auth<2,>=1.6.3 in /usr/local/lib/python3.7/site-packages (from tensorboard<2.3.0,>=2.2.0->tensorflow==2.*->-r ./requirements.txt (line 4)) (1.17.2)\n",
      "Requirement already satisfied: google-auth-oauthlib<0.5,>=0.4.1 in /usr/local/lib/python3.7/site-packages (from tensorboard<2.3.0,>=2.2.0->tensorflow==2.*->-r ./requirements.txt (line 4)) (0.4.1)\n",
      "Requirement already satisfied: requests<3,>=2.21.0 in /Users/gandalf/Library/Python/3.7/lib/python/site-packages (from tensorboard<2.3.0,>=2.2.0->tensorflow==2.*->-r ./requirements.txt (line 4)) (2.23.0)\n",
      "Requirement already satisfied: tensorboard-plugin-wit>=1.6.0 in /usr/local/lib/python3.7/site-packages (from tensorboard<2.3.0,>=2.2.0->tensorflow==2.*->-r ./requirements.txt (line 4)) (1.6.0.post3)\n",
      "Requirement already satisfied: markdown>=2.6.8 in /usr/local/lib/python3.7/site-packages (from tensorboard<2.3.0,>=2.2.0->tensorflow==2.*->-r ./requirements.txt (line 4)) (3.2.2)\n",
      "Requirement already satisfied: setuptools>=41.0.0 in /usr/local/lib/python3.7/site-packages (from tensorboard<2.3.0,>=2.2.0->tensorflow==2.*->-r ./requirements.txt (line 4)) (46.0.0)\n",
      "Requirement already satisfied: werkzeug>=0.11.15 in /usr/local/lib/python3.7/site-packages (from tensorboard<2.3.0,>=2.2.0->tensorflow==2.*->-r ./requirements.txt (line 4)) (1.0.1)\n",
      "Requirement already satisfied: pyasn1>=0.1.3 in /usr/local/lib/python3.7/site-packages (from rsa<=3.5.0,>=3.1.2->awscli->-r ./requirements.txt (line 8)) (0.4.8)\n",
      "Requirement already satisfied: jmespath<1.0.0,>=0.7.1 in /usr/local/lib/python3.7/site-packages (from botocore==1.17.7->awscli->-r ./requirements.txt (line 8)) (0.10.0)\n",
      "Requirement already satisfied: pyasn1-modules>=0.2.1 in /usr/local/lib/python3.7/site-packages (from google-auth<2,>=1.6.3->tensorboard<2.3.0,>=2.2.0->tensorflow==2.*->-r ./requirements.txt (line 4)) (0.2.8)\n",
      "Requirement already satisfied: cachetools<5.0,>=2.0.0 in /usr/local/lib/python3.7/site-packages (from google-auth<2,>=1.6.3->tensorboard<2.3.0,>=2.2.0->tensorflow==2.*->-r ./requirements.txt (line 4)) (4.1.0)\n",
      "Requirement already satisfied: requests-oauthlib>=0.7.0 in /usr/local/lib/python3.7/site-packages (from google-auth-oauthlib<0.5,>=0.4.1->tensorboard<2.3.0,>=2.2.0->tensorflow==2.*->-r ./requirements.txt (line 4)) (1.3.0)\n",
      "Requirement already satisfied: idna<3,>=2.5 in /Users/gandalf/Library/Python/3.7/lib/python/site-packages (from requests<3,>=2.21.0->tensorboard<2.3.0,>=2.2.0->tensorflow==2.*->-r ./requirements.txt (line 4)) (2.9)\n",
      "Requirement already satisfied: certifi>=2017.4.17 in /Users/gandalf/Library/Python/3.7/lib/python/site-packages (from requests<3,>=2.21.0->tensorboard<2.3.0,>=2.2.0->tensorflow==2.*->-r ./requirements.txt (line 4)) (2020.4.5.1)\n",
      "Requirement already satisfied: chardet<4,>=3.0.2 in /Users/gandalf/Library/Python/3.7/lib/python/site-packages (from requests<3,>=2.21.0->tensorboard<2.3.0,>=2.2.0->tensorflow==2.*->-r ./requirements.txt (line 4)) (3.0.4)\n",
      "Requirement already satisfied: importlib-metadata; python_version < \"3.8\" in /Users/gandalf/Library/Python/3.7/lib/python/site-packages (from markdown>=2.6.8->tensorboard<2.3.0,>=2.2.0->tensorflow==2.*->-r ./requirements.txt (line 4)) (1.6.0)\n",
      "Requirement already satisfied: oauthlib>=3.0.0 in /usr/local/lib/python3.7/site-packages (from requests-oauthlib>=0.7.0->google-auth-oauthlib<0.5,>=0.4.1->tensorboard<2.3.0,>=2.2.0->tensorflow==2.*->-r ./requirements.txt (line 4)) (3.1.0)\n",
      "Requirement already satisfied: zipp>=0.5 in /Users/gandalf/Library/Python/3.7/lib/python/site-packages (from importlib-metadata; python_version < \"3.8\"->markdown>=2.6.8->tensorboard<2.3.0,>=2.2.0->tensorflow==2.*->-r ./requirements.txt (line 4)) (3.1.0)\n"
     ]
    },
    {
     "name": "stdout",
     "output_type": "stream",
     "text": [
      "\u001b[33mWARNING: You are using pip version 20.1; however, version 20.1.1 is available.\r\n",
      "You should consider upgrading via the '/usr/local/opt/python/bin/python3.7 -m pip install --upgrade pip' command.\u001b[0m\r\n"
     ]
    }
   ],
   "source": [
    "!pip install -r ./requirements.txt"
   ]
  },
  {
   "cell_type": "markdown",
   "metadata": {
    "colab_type": "text",
    "id": "1DMiQtY7Koy7"
   },
   "source": [
    "**Download yolov3.weights if you don't have it:**"
   ]
  },
  {
   "cell_type": "code",
   "execution_count": 5,
   "metadata": {
    "colab": {},
    "colab_type": "code",
    "id": "UX-LG3R6An5U"
   },
   "outputs": [
    {
     "name": "stdout",
     "output_type": "stream",
     "text": [
      "--2020-06-24 12:09:51--  https://pjreddie.com/media/files/yolov3.weights\n",
      "Resolving pjreddie.com (pjreddie.com)... 128.208.4.108\n",
      "Connecting to pjreddie.com (pjreddie.com)|128.208.4.108|:443... connected.\n",
      "HTTP request sent, awaiting response... 200 OK\n",
      "Length: 248007048 (237M) [application/octet-stream]\n",
      "Saving to: ‘model_data/yolov3.weights’\n",
      "\n",
      "yolov3.weights        0%[                    ] 711.70K  67.2KB/s    eta 69m 22s^C\n"
     ]
    }
   ],
   "source": [
    "!wget -P model_data https://pjreddie.com/media/files/yolov3.weights"
   ]
  },
  {
   "cell_type": "markdown",
   "metadata": {
    "colab_type": "text",
    "id": "DDmBbAUKLUkB"
   },
   "source": [
    "**Test if TensorFlow works with gpu for you, in output should see similar results:**\n",
    "```\n",
    "2.2.0\n",
    "'/device:GPU:0'\n",
    "```"
   ]
  },
  {
   "cell_type": "code",
   "execution_count": 2,
   "metadata": {
    "colab": {
     "base_uri": "https://localhost:8080/",
     "height": 51
    },
    "colab_type": "code",
    "executionInfo": {
     "elapsed": 9211,
     "status": "ok",
     "timestamp": 1590585051412,
     "user": {
      "displayName": "Python Lessons",
      "photoUrl": "https://lh3.googleusercontent.com/a-/AOh14GgMQmMhFapKcavl337-vY17yrbowBHBlZQ5qYQv=s64",
      "userId": "12382394757900236362"
     },
     "user_tz": -180
    },
    "id": "M3cWo7hhc-qO",
    "outputId": "0e5e2fe3-9fd0-48a5-ac25-54ffc40c6037"
   },
   "outputs": [
    {
     "name": "stdout",
     "output_type": "stream",
     "text": [
      "2.2.0\n"
     ]
    },
    {
     "data": {
      "text/plain": [
       "''"
      ]
     },
     "execution_count": 2,
     "metadata": {},
     "output_type": "execute_result"
    }
   ],
   "source": [
    "import tensorflow as tf\n",
    "print(tf.__version__)\n",
    "tf.test.gpu_device_name()"
   ]
  },
  {
   "cell_type": "markdown",
   "metadata": {
    "colab_type": "text",
    "id": "sX0TGlJhMGd_"
   },
   "source": [
    "**Test by loading trained model:**"
   ]
  },
  {
   "cell_type": "code",
   "execution_count": 20,
   "metadata": {
    "colab": {},
    "colab_type": "code",
    "id": "NUKLydfYCo4r"
   },
   "outputs": [],
   "source": [
    "import cv2\n",
    "import numpy as np\n",
    "import matplotlib\n",
    "import matplotlib.pyplot as plt\n",
    "%matplotlib inline  \n",
    "import tensorflow as tf\n",
    "from yolov3.yolov3 import Create_Yolov3\n",
    "from yolov3.utils import load_yolo_weights, detect_image\n",
    "from yolov3.configs import *\n",
    "\n",
    "#input_size = YOLO_INPUT_SIZE\n",
    "#Darknet_weights = YOLO_DARKNET_WEIGHTS\n",
    "\n",
    "#yolo = Create_Yolov3(input_size=input_size)\n",
    "#load_yolo_weights(yolo, Darknet_weights) # use Darknet weights"
   ]
  },
  {
   "cell_type": "markdown",
   "metadata": {
    "colab_type": "text",
    "id": "qdpGgKUUMJOe"
   },
   "source": [
    "**Test by testing detection on original model:**"
   ]
  },
  {
   "cell_type": "code",
   "execution_count": 11,
   "metadata": {
    "colab": {
     "base_uri": "https://localhost:8080/",
     "height": 884,
     "output_embedded_package_id": "1DF4Mg-iv6Ed76HtC6Ta6A1rZFliiF7vR"
    },
    "colab_type": "code",
    "executionInfo": {
     "elapsed": 3566,
     "status": "ok",
     "timestamp": 1590585284455,
     "user": {
      "displayName": "Python Lessons",
      "photoUrl": "https://lh3.googleusercontent.com/a-/AOh14GgMQmMhFapKcavl337-vY17yrbowBHBlZQ5qYQv=s64",
      "userId": "12382394757900236362"
     },
     "user_tz": -180
    },
    "id": "PcNcPmvLC5fl",
    "outputId": "e7f662e2-bc6e-4d0d-fc9e-5e3fea683589"
   },
   "outputs": [
    {
     "name": "stdout",
     "output_type": "stream",
     "text": [
      "(10647, 85)\n"
     ]
    },
    {
     "data": {
      "text/plain": [
       "<matplotlib.image.AxesImage at 0x16380b610>"
      ]
     },
     "execution_count": 11,
     "metadata": {},
     "output_type": "execute_result"
    },
    {
     "data": {
      "image/png": "[encoded data removed]",
      "text/plain": [
       "<Figure size 2160x1080 with 1 Axes>"
      ]
     },
     "metadata": {
      "needs_background": "light"
     },
     "output_type": "display_data"
    }
   ],
   "source": [
    "image_path   = \"/Users/gandalf/Projects/osmo/ML/final_tensor/model_data/train_data/example3.jpg\"\n",
    "\n",
    "image,pred = detect_image(yolo, image_path, '', input_size=input_size, show=False, rectangle_colors=(255,0,0))\n",
    "image = cv2.cvtColor(image, cv2.COLOR_BGR2RGB)\n",
    "\n",
    "plt.figure(figsize=(30,15))\n",
    "print(pred.shape)\n",
    "plt.imshow(image)"
   ]
  },
  {
   "cell_type": "markdown",
   "metadata": {
    "colab_type": "text",
    "id": "f81_fxA5Naqm"
   },
   "source": [
    "**Run `XML_to_YOLOv3.py` script to convert XML files to YOLOv3 annotations files:**"
   ]
  },
  {
   "cell_type": "code",
   "execution_count": 0,
   "metadata": {
    "colab": {
     "base_uri": "https://localhost:8080/",
     "height": 1000
    },
    "colab_type": "code",
    "executionInfo": {
     "elapsed": 183659,
     "status": "ok",
     "timestamp": 1590585515482,
     "user": {
      "displayName": "Python Lessons",
      "photoUrl": "https://lh3.googleusercontent.com/a-/AOh14GgMQmMhFapKcavl337-vY17yrbowBHBlZQ5qYQv=s64",
      "userId": "12382394757900236362"
     },
     "user_tz": -180
    },
    "id": "pXlFGBAp7Ibg",
    "outputId": "8a3a485a-8302-4ae5-ff74-61942c1b08b1"
   },
   "outputs": [
    {
     "name": "stdout",
     "output_type": "stream",
     "text": [
      "/content/gdrive/My Drive/TensorFlow-2.x-YOLOv3/custom_dataset/train\n",
      "/content/gdrive/My Drive/TensorFlow-2.x-YOLOv3/custom_dataset/train/1.jpg 650,576,959,749,0\n",
      "/content/gdrive/My Drive/TensorFlow-2.x-YOLOv3/custom_dataset/train/2.jpg 215,190,409,294,0\n",
      "/content/gdrive/My Drive/TensorFlow-2.x-YOLOv3/custom_dataset/train/3.jpg 845,429,932,488,0\n",
      "/content/gdrive/My Drive/TensorFlow-2.x-YOLOv3/custom_dataset/train/4.jpg 71,113,397,220,0\n",
      "/content/gdrive/My Drive/TensorFlow-2.x-YOLOv3/custom_dataset/train/6.jpg 784,493,944,593,0\n",
      "/content/gdrive/My Drive/TensorFlow-2.x-YOLOv3/custom_dataset/train/7.jpg 275,215,463,262,0\n",
      "/content/gdrive/My Drive/TensorFlow-2.x-YOLOv3/custom_dataset/train/8.jpg 323,508,500,609,0\n",
      "/content/gdrive/My Drive/TensorFlow-2.x-YOLOv3/custom_dataset/train/9.jpg 140,177,238,200,0\n",
      "/content/gdrive/My Drive/TensorFlow-2.x-YOLOv3/custom_dataset/train/10.jpg 154,126,315,174,0\n",
      "/content/gdrive/My Drive/TensorFlow-2.x-YOLOv3/custom_dataset/train/dayride_type1_001.mp4#t=754.jpg 506,459,807,537,0\n",
      "/content/gdrive/My Drive/TensorFlow-2.x-YOLOv3/custom_dataset/train/dayride_type1_001.mp4#t=1511.jpg 897,364,970,386,0\n",
      "/content/gdrive/My Drive/TensorFlow-2.x-YOLOv3/custom_dataset/train/dayride_type1_001.mp4#t=409.jpg 608,367,662,382,0\n",
      "/content/gdrive/My Drive/TensorFlow-2.x-YOLOv3/custom_dataset/train/dayride_type1_001.mp4#t=31.jpg 555,314,608,328,0\n",
      "/content/gdrive/My Drive/TensorFlow-2.x-YOLOv3/custom_dataset/train/dayride_type1_001.mp4#t=748.jpg 565,321,636,340,0\n",
      "/content/gdrive/My Drive/TensorFlow-2.x-YOLOv3/custom_dataset/train/dayride_type1_001.mp4#t=1316.jpg 1015,388,1085,406,0 569,387,641,407,0\n",
      "/content/gdrive/My Drive/TensorFlow-2.x-YOLOv3/custom_dataset/train/nightride_type3_001.mp4#t=109.jpg 374,537,605,600,0\n",
      "/content/gdrive/My Drive/TensorFlow-2.x-YOLOv3/custom_dataset/train/dayride_type1_002.mp4#t=389.jpg 568,586,849,670,0 94,408,202,438,0\n",
      "/content/gdrive/My Drive/TensorFlow-2.x-YOLOv3/custom_dataset/train/dayride_type1_001.mp4#t=1449.jpg 61,443,167,475,0\n",
      "/content/gdrive/My Drive/TensorFlow-2.x-YOLOv3/custom_dataset/train/nightride_type3_001.mp4#t=10.jpg 739,415,951,471,0\n",
      "/content/gdrive/My Drive/TensorFlow-2.x-YOLOv3/custom_dataset/train/dayride_type1_001.mp4#t=1171.jpg 906,396,981,417,0\n",
      "/content/gdrive/My Drive/TensorFlow-2.x-YOLOv3/custom_dataset/train/dayride_type1_001.mp4#t=942.jpg 570,328,644,349,0\n",
      "/content/gdrive/My Drive/TensorFlow-2.x-YOLOv3/custom_dataset/train/nightride_type3_001.mp4#t=1.jpg 690,438,942,510,0\n",
      "/content/gdrive/My Drive/TensorFlow-2.x-YOLOv3/custom_dataset/train/dayride_type1_002.mp4#t=282.jpg 489,401,584,433,0\n",
      "/content/gdrive/My Drive/TensorFlow-2.x-YOLOv3/custom_dataset/train/dayride_type1_001.mp4#t=619.jpg 579,367,653,388,0\n",
      "/content/gdrive/My Drive/TensorFlow-2.x-YOLOv3/custom_dataset/train/dayride_type1_001.mp4#t=1090.jpg 552,385,653,413,0\n",
      "/content/gdrive/My Drive/TensorFlow-2.x-YOLOv3/custom_dataset/train/dayride_type1_001.mp4#t=1177.jpg 963,370,1025,387,0\n",
      "/content/gdrive/My Drive/TensorFlow-2.x-YOLOv3/custom_dataset/train/dayride_type1_001.mp4#t=418.jpg 652,412,735,433,0\n",
      "/content/gdrive/My Drive/TensorFlow-2.x-YOLOv3/custom_dataset/train/dayride_type1_001.mp4#t=148.jpg 631,348,695,368,0\n",
      "/content/gdrive/My Drive/TensorFlow-2.x-YOLOv3/custom_dataset/train/dayride_type1_001.mp4#t=1093.jpg 0,370,103,397,0 515,533,742,589,0 1071,424,1165,449,0\n",
      "/content/gdrive/My Drive/TensorFlow-2.x-YOLOv3/custom_dataset/train/dayride_type1_001.mp4#t=20.jpg 778,403,881,429,0\n",
      "/content/gdrive/My Drive/TensorFlow-2.x-YOLOv3/custom_dataset/train/dayride_type1_001.mp4#t=671.jpg 563,385,638,405,0\n",
      "/content/gdrive/My Drive/TensorFlow-2.x-YOLOv3/custom_dataset/train/dayride_type1_001.mp4#t=1121.jpg 603,363,686,386,0 1155,429,1270,458,0\n",
      "/content/gdrive/My Drive/TensorFlow-2.x-YOLOv3/custom_dataset/train/dayride_type1_001.mp4#t=428.jpg 615,416,709,441,0\n",
      "/content/gdrive/My Drive/TensorFlow-2.x-YOLOv3/custom_dataset/train/dayride_type1_001.mp4#t=758.jpg 502,476,819,553,0\n",
      "/content/gdrive/My Drive/TensorFlow-2.x-YOLOv3/custom_dataset/train/dayride_type1_003.mp4#t=82.jpg 736,363,816,384,0\n",
      "/content/gdrive/My Drive/TensorFlow-2.x-YOLOv3/custom_dataset/train/nightride_type3_001.mp4#t=311.jpg 592,420,735,463,0\n",
      "/content/gdrive/My Drive/TensorFlow-2.x-YOLOv3/custom_dataset/train/dayride_type1_001.mp4#t=905.jpg 213,450,348,485,0 652,326,717,343,0\n",
      "/content/gdrive/My Drive/TensorFlow-2.x-YOLOv3/custom_dataset/train/dayride_type1_001.mp4#t=1596.jpg 562,352,647,377,0\n",
      "/content/gdrive/My Drive/TensorFlow-2.x-YOLOv3/custom_dataset/train/dayride_type1_001.mp4#t=1613.jpg 168,401,243,423,0\n",
      "/content/gdrive/My Drive/TensorFlow-2.x-YOLOv3/custom_dataset/train/dayride_type1_001.mp4#t=586.jpg 593,367,670,389,0\n",
      "/content/gdrive/My Drive/TensorFlow-2.x-YOLOv3/custom_dataset/train/dayride_type1_001.mp4#t=1060.jpg 525,601,715,646,0\n",
      "/content/gdrive/My Drive/TensorFlow-2.x-YOLOv3/custom_dataset/train/dayride_type1_001.mp4#t=1357.jpg 605,357,677,379,0\n",
      "/content/gdrive/My Drive/TensorFlow-2.x-YOLOv3/custom_dataset/train/dayride_type1_001.mp4#t=1197.jpg 524,465,727,514,0 1112,408,1211,433,0\n",
      "/content/gdrive/My Drive/TensorFlow-2.x-YOLOv3/custom_dataset/train/dayride_type1_001.mp4#t=598.jpg 625,526,875,601,0\n",
      "/content/gdrive/My Drive/TensorFlow-2.x-YOLOv3/custom_dataset/train/dayride_type1_001.mp4#t=696.jpg 721,379,820,405,0\n",
      "/content/gdrive/My Drive/TensorFlow-2.x-YOLOv3/custom_dataset/train/dayride_type1_001.mp4#t=823.jpg 684,564,868,610,0\n",
      "/content/gdrive/My Drive/TensorFlow-2.x-YOLOv3/custom_dataset/train/dayride_type1_001.mp4#t=752.jpg 525,418,760,475,0\n",
      "/content/gdrive/My Drive/TensorFlow-2.x-YOLOv3/custom_dataset/train/dayride_type1_001.mp4#t=557.jpg 508,410,641,444,0 1028,377,1118,400,0\n",
      "/content/gdrive/My Drive/TensorFlow-2.x-YOLOv3/custom_dataset/train/dayride_type1_001.mp4#t=511.jpg 989,363,1058,381,0 595,338,654,356,0\n",
      "/content/gdrive/My Drive/TensorFlow-2.x-YOLOv3/custom_dataset/train/nightride_type3_001.mp4#t=263.jpg 535,520,754,592,0\n",
      "/content/gdrive/My Drive/TensorFlow-2.x-YOLOv3/custom_dataset/train/dayride_type1_001.mp4#t=1257.jpg 512,470,709,515,0\n",
      "/content/gdrive/My Drive/TensorFlow-2.x-YOLOv3/custom_dataset/train/dayride_type1_001.mp4#t=693.jpg 847,320,920,342,0\n",
      "/content/gdrive/My Drive/TensorFlow-2.x-YOLOv3/custom_dataset/train/dayride_type1_001.mp4#t=340.jpg 601,359,654,375,0 390,341,432,356,0\n",
      "/content/gdrive/My Drive/TensorFlow-2.x-YOLOv3/custom_dataset/train/nightride_type3_001.mp4#t=542.jpg 600,393,803,454,0\n",
      "/content/gdrive/My Drive/TensorFlow-2.x-YOLOv3/custom_dataset/train/dayride_type1_003.mp4#t=121.jpg 689,492,820,525,0\n",
      "/content/gdrive/My Drive/TensorFlow-2.x-YOLOv3/custom_dataset/train/dayride_type1_001.mp4#t=614.jpg 685,413,803,447,0\n",
      "/content/gdrive/My Drive/TensorFlow-2.x-YOLOv3/custom_dataset/train/dayride_type1_001.mp4#t=535.jpg 587,409,669,431,0\n",
      "/content/gdrive/My Drive/TensorFlow-2.x-YOLOv3/custom_dataset/train/dayride_type1_001.mp4#t=734.jpg 190,427,277,449,0\n",
      "/content/gdrive/My Drive/TensorFlow-2.x-YOLOv3/custom_dataset/train/dayride_type1_001.mp4#t=635.jpg 657,350,744,373,0\n",
      "/content/gdrive/My Drive/TensorFlow-2.x-YOLOv3/custom_dataset/train/nightride_type3_001.mp4#t=11.jpg 779,376,948,423,0\n",
      "/content/gdrive/My Drive/TensorFlow-2.x-YOLOv3/custom_dataset/train/dayride_type1_001.mp4#t=450.jpg 196,376,282,400,0\n",
      "/content/gdrive/My Drive/TensorFlow-2.x-YOLOv3/custom_dataset/train/dayride_type1_001.mp4#t=1471.jpg 595,465,760,511,0\n",
      "/content/gdrive/My Drive/TensorFlow-2.x-YOLOv3/custom_dataset/train/nightride_type3_001.mp4#t=350.jpg 345,321,433,347,0 744,523,958,588,0\n",
      "/content/gdrive/My Drive/TensorFlow-2.x-YOLOv3/custom_dataset/train/dayride_type1_001.mp4#t=685.jpg 613,369,681,388,0\n",
      "/content/gdrive/My Drive/TensorFlow-2.x-YOLOv3/custom_dataset/train/dayride_type1_001.mp4#t=33.jpg 602,398,727,432,0\n",
      "/content/gdrive/My Drive/TensorFlow-2.x-YOLOv3/custom_dataset/train/dayride_type1_001.mp4#t=783.jpg 532,324,597,342,0\n",
      "/content/gdrive/My Drive/TensorFlow-2.x-YOLOv3/custom_dataset/train/dayride_type1_001.mp4#t=822.jpg 661,483,806,519,0\n",
      "/content/gdrive/My Drive/TensorFlow-2.x-YOLOv3/custom_dataset/train/dayride_type1_001.mp4#t=1509.jpg 856,357,929,378,0\n",
      "/content/gdrive/My Drive/TensorFlow-2.x-YOLOv3/custom_dataset/train/dayride_type1_001.mp4#t=503.jpg 946,366,1041,392,0\n",
      "/content/gdrive/My Drive/TensorFlow-2.x-YOLOv3/custom_dataset/train/nightride_type3_001.mp4#t=74.jpg 621,300,736,334,0\n",
      "/content/gdrive/My Drive/TensorFlow-2.x-YOLOv3/custom_dataset/train/nightride_type3_001.mp4#t=37.jpg 551,315,740,368,0\n",
      "/content/gdrive/My Drive/TensorFlow-2.x-YOLOv3/custom_dataset/train/dayride_type1_001.mp4#t=1054.jpg 556,373,622,389,0\n",
      "/content/gdrive/My Drive/TensorFlow-2.x-YOLOv3/custom_dataset/train/dayride_type1_002.mp4#t=71.jpg 175,437,324,482,0\n",
      "/content/gdrive/My Drive/TensorFlow-2.x-YOLOv3/custom_dataset/train/dayride_type1_001.mp4#t=453.jpg 0,413,113,451,0 618,355,671,370,0\n",
      "/content/gdrive/My Drive/TensorFlow-2.x-YOLOv3/custom_dataset/train/dayride_type1_001.mp4#t=558.jpg 464,491,665,542,0 1160,416,1280,446,0\n",
      "/content/gdrive/My Drive/TensorFlow-2.x-YOLOv3/custom_dataset/train/dayride_type1_001.mp4#t=775.jpg 596,398,767,439,0\n",
      "/content/gdrive/My Drive/TensorFlow-2.x-YOLOv3/custom_dataset/train/dayride_type1_001.mp4#t=32.jpg 586,358,679,380,0\n",
      "/content/gdrive/My Drive/TensorFlow-2.x-YOLOv3/custom_dataset/train/dayride_type1_001.mp4#t=431.jpg 603,562,778,605,0 986,372,1065,393,0\n",
      "/content/gdrive/My Drive/TensorFlow-2.x-YOLOv3/custom_dataset/train/dayride_type1_001.mp4#t=1077.jpg 654,330,735,351,0 1132,433,1236,460,0\n",
      "/content/gdrive/My Drive/TensorFlow-2.x-YOLOv3/custom_dataset/train/dayride_type1_001.mp4#t=807.jpg 585,403,676,427,0\n",
      "/content/gdrive/My Drive/TensorFlow-2.x-YOLOv3/custom_dataset/train/dayride_type1_001.mp4#t=532.jpg 666,370,745,393,0\n",
      "/content/gdrive/My Drive/TensorFlow-2.x-YOLOv3/custom_dataset/train/dayride_type1_001.mp4#t=1072.jpg 541,567,699,607,0\n",
      "/content/gdrive/My Drive/TensorFlow-2.x-YOLOv3/custom_dataset/train/dayride_type1_001.mp4#t=539.jpg 625,416,714,439,0\n",
      "/content/gdrive/My Drive/TensorFlow-2.x-YOLOv3/custom_dataset/train/dayride_type1_001.mp4#t=189.jpg 947,369,1018,389,0\n",
      "/content/gdrive/My Drive/TensorFlow-2.x-YOLOv3/custom_dataset/train/dayride_type1_001.mp4#t=411.jpg 152,386,232,406,0\n",
      "/content/gdrive/My Drive/TensorFlow-2.x-YOLOv3/custom_dataset/train/dayride_type1_001.mp4#t=1088.jpg 70,364,178,393,0 653,385,746,411,0\n",
      "/content/gdrive/My Drive/TensorFlow-2.x-YOLOv3/custom_dataset/train/dayride_type1_001.mp4#t=613.jpg 673,427,807,462,0\n",
      "/content/gdrive/My Drive/TensorFlow-2.x-YOLOv3/custom_dataset/train/dayride_type1_001.mp4#t=1390.jpg 551,396,633,419,0\n",
      "/content/gdrive/My Drive/TensorFlow-2.x-YOLOv3/custom_dataset/train/dayride_type1_001.mp4#t=755.jpg 504,476,823,554,0\n",
      "/content/gdrive/My Drive/TensorFlow-2.x-YOLOv3/custom_dataset/train/dayride_type1_001.mp4#t=430.jpg 612,506,752,542,0\n",
      "/content/gdrive/My Drive/TensorFlow-2.x-YOLOv3/custom_dataset/train/dayride_type1_001.mp4#t=1084.jpg 625,368,731,396,0\n",
      "/content/gdrive/My Drive/TensorFlow-2.x-YOLOv3/custom_dataset/train/nightride_type3_001.mp4#t=588.jpg 579,407,778,466,0\n",
      "/content/gdrive/My Drive/TensorFlow-2.x-YOLOv3/custom_dataset/train/dayride_type1_001.mp4#t=462.jpg 626,357,703,376,0\n",
      "/content/gdrive/My Drive/TensorFlow-2.x-YOLOv3/custom_dataset/train/dayride_type1_001.mp4#t=889.jpg 354,448,562,500,0 745,383,831,405,0\n",
      "/content/gdrive/My Drive/TensorFlow-2.x-YOLOv3/custom_dataset/train/dayride_type1_001.mp4#t=119.jpg 160,413,253,440,0\n",
      "/content/gdrive/My Drive/TensorFlow-2.x-YOLOv3/custom_dataset/train/dayride_type1_001.mp4#t=1205.jpg 476,450,651,493,0 1120,456,1237,487,0 803,345,861,361,0\n",
      "/content/gdrive/My Drive/TensorFlow-2.x-YOLOv3/custom_dataset/train/dayride_type1_001.mp4#t=156.jpg 588,316,628,329,0\n",
      "/content/gdrive/My Drive/TensorFlow-2.x-YOLOv3/custom_dataset/train/nightride_type3_001.mp4#t=403.jpg 593,357,698,388,0\n",
      "/content/gdrive/My Drive/TensorFlow-2.x-YOLOv3/custom_dataset/train/dayride_type1_001.mp4#t=776.jpg 584,376,724,410,0\n",
      "/content/gdrive/My Drive/TensorFlow-2.x-YOLOv3/custom_dataset/train/dayride_type1_001.mp4#t=342.jpg 603,377,677,397,0\n",
      "/content/gdrive/My Drive/TensorFlow-2.x-YOLOv3/custom_dataset/train/dayride_type1_001.mp4#t=1127.jpg 872,341,951,363,0\n",
      "/content/gdrive/My Drive/TensorFlow-2.x-YOLOv3/custom_dataset/train/dayride_type1_001.mp4#t=149.jpg 649,337,714,355,0\n",
      "/content/gdrive/My Drive/TensorFlow-2.x-YOLOv3/custom_dataset/train/dayride_type1_001.mp4#t=87.jpg 468,448,703,509,0\n",
      "/content/gdrive/My Drive/TensorFlow-2.x-YOLOv3/custom_dataset/train/dayride_type1_001.mp4#t=749.jpg 563,330,667,357,0\n",
      "/content/gdrive/My Drive/TensorFlow-2.x-YOLOv3/custom_dataset/train/dayride_type1_003.mp4#t=80.jpg 778,366,868,392,0\n",
      "/content/gdrive/My Drive/TensorFlow-2.x-YOLOv3/custom_dataset/train/nightride_type3_001.mp4#t=557.jpg 597,356,747,402,0\n",
      "/content/gdrive/My Drive/TensorFlow-2.x-YOLOv3/custom_dataset/train/dayride_type1_001.mp4#t=1139.jpg 582,384,671,406,0\n",
      "/content/gdrive/My Drive/TensorFlow-2.x-YOLOv3/custom_dataset/train/dayride_type1_001.mp4#t=296.jpg 1102,508,1252,547,0\n",
      "/content/gdrive/My Drive/TensorFlow-2.x-YOLOv3/custom_dataset/train/dayride_type1_001.mp4#t=1172.jpg 881,389,949,408,0\n",
      "/content/gdrive/My Drive/TensorFlow-2.x-YOLOv3/custom_dataset/train/dayride_type1_001.mp4#t=1554.jpg 569,437,663,464,0\n",
      "/content/gdrive/My Drive/TensorFlow-2.x-YOLOv3/custom_dataset/train/dayride_type1_001.mp4#t=1078.jpg 684,336,749,356,0\n",
      "/content/gdrive/My Drive/TensorFlow-2.x-YOLOv3/custom_dataset/train/dayride_type1_001.mp4#t=1071.jpg 527,603,715,650,0\n",
      "/content/gdrive/My Drive/TensorFlow-2.x-YOLOv3/custom_dataset/train/dayride_type1_001.mp4#t=597.jpg 629,531,871,597,0\n",
      "/content/gdrive/My Drive/TensorFlow-2.x-YOLOv3/custom_dataset/train/dayride_type1_001.mp4#t=830.jpg 694,592,898,646,0\n",
      "/content/gdrive/My Drive/TensorFlow-2.x-YOLOv3/custom_dataset/train/dayride_type1_001.mp4#t=1087.jpg 532,337,609,358,0\n",
      "/content/gdrive/My Drive/TensorFlow-2.x-YOLOv3/custom_dataset/train/dayride_type1_001.mp4#t=588.jpg 615,382,703,407,0\n",
      "/content/gdrive/My Drive/TensorFlow-2.x-YOLOv3/custom_dataset/train/dayride_type1_001.mp4#t=908.jpg 631,400,715,423,0\n",
      "/content/gdrive/My Drive/TensorFlow-2.x-YOLOv3/custom_dataset/train/dayride_type1_003.mp4#t=314.jpg 639,483,841,541,0\n",
      "/content/gdrive/My Drive/TensorFlow-2.x-YOLOv3/custom_dataset/train/dayride_type1_001.mp4#t=345.jpg 586,386,657,406,0\n",
      "/content/gdrive/My Drive/TensorFlow-2.x-YOLOv3/custom_dataset/train/dayride_type1_001.mp4#t=907.jpg 614,415,721,443,0\n",
      "/content/gdrive/My Drive/TensorFlow-2.x-YOLOv3/custom_dataset/train/dayride_type1_001.mp4#t=920.jpg 183,382,290,410,0\n",
      "/content/gdrive/My Drive/TensorFlow-2.x-YOLOv3/custom_dataset/train/dayride_type1_001.mp4#t=1310.jpg 131,400,210,421,0\n",
      "/content/gdrive/My Drive/TensorFlow-2.x-YOLOv3/custom_dataset/train/dayride_type1_002.mp4#t=325.jpg 556,398,648,434,0\n",
      "/content/gdrive/My Drive/TensorFlow-2.x-YOLOv3/custom_dataset/train/dayride_type1_001.mp4#t=363.jpg 1124,388,1222,413,0\n",
      "/content/gdrive/My Drive/TensorFlow-2.x-YOLOv3/custom_dataset/train/dayride_type1_001.mp4#t=1145.jpg 538,384,641,411,0\n",
      "/content/gdrive/My Drive/TensorFlow-2.x-YOLOv3/custom_dataset/train/dayride_type1_001.mp4#t=1317.jpg 567,374,626,392,0\n",
      "/content/gdrive/My Drive/TensorFlow-2.x-YOLOv3/custom_dataset/train/dayride_type1_001.mp4#t=1157.jpg 493,484,672,527,0 1082,398,1174,423,0\n",
      "/content/gdrive/My Drive/TensorFlow-2.x-YOLOv3/custom_dataset/train/dayride_type1_001.mp4#t=778.jpg 500,356,601,382,0\n",
      "/content/gdrive/My Drive/TensorFlow-2.x-YOLOv3/custom_dataset/train/dayride_type1_001.mp4#t=1086.jpg 1003,391,1076,413,0 554,331,621,350,0\n",
      "/content/gdrive/My Drive/TensorFlow-2.x-YOLOv3/custom_dataset/train/dayride_type1_001.mp4#t=780.jpg 212,343,305,367,0\n",
      "/content/gdrive/My Drive/TensorFlow-2.x-YOLOv3/custom_dataset/train/dayride_type1_001.mp4#t=1372.jpg 1011,368,1109,396,0\n",
      "/content/gdrive/My Drive/TensorFlow-2.x-YOLOv3/custom_dataset/train/dayride_type1_001.mp4#t=621.jpg 617,350,683,368,0\n",
      "/content/gdrive/My Drive/TensorFlow-2.x-YOLOv3/custom_dataset/train/dayride_type1_001.mp4#t=895.jpg 462,498,727,562,0\n",
      "/content/gdrive/My Drive/TensorFlow-2.x-YOLOv3/custom_dataset/train/dayride_type1_001.mp4#t=472.jpg 606,408,719,438,0\n",
      "/content/gdrive/My Drive/TensorFlow-2.x-YOLOv3/custom_dataset/train/nightride_type3_001.mp4#t=56.jpg 666,254,767,283,0\n",
      "/content/gdrive/My Drive/TensorFlow-2.x-YOLOv3/custom_dataset/train/dayride_type1_001.mp4#t=1117.jpg 479,433,607,467,0\n",
      "/content/gdrive/My Drive/TensorFlow-2.x-YOLOv3/custom_dataset/train/dayride_type1_001.mp4#t=1057.jpg 538,550,695,592,0\n",
      "/content/gdrive/My Drive/TensorFlow-2.x-YOLOv3/custom_dataset/train/dayride_type1_003.mp4#t=50.jpg 98,374,184,404,0 630,430,717,457,0\n",
      "/content/gdrive/My Drive/TensorFlow-2.x-YOLOv3/custom_dataset/train/dayride_type1_001.mp4#t=1413.jpg 561,418,653,446,0\n",
      "/content/gdrive/My Drive/TensorFlow-2.x-YOLOv3/custom_dataset/train/dayride_type1_001.mp4#t=1114.jpg 528,484,698,524,0\n",
      "/content/gdrive/My Drive/TensorFlow-2.x-YOLOv3/custom_dataset/train/dayride_type1_002.mp4#t=226.jpg 806,473,998,525,0\n",
      "/content/gdrive/My Drive/TensorFlow-2.x-YOLOv3/custom_dataset/train/dayride_type1_001.mp4#t=1126.jpg 663,354,741,377,0\n",
      "/content/gdrive/My Drive/TensorFlow-2.x-YOLOv3/custom_dataset/train/dayride_type1_001.mp4#t=1464.jpg 510,425,643,463,0\n",
      "/content/gdrive/My Drive/TensorFlow-2.x-YOLOv3/custom_dataset/train/dayride_type1_001.mp4#t=498.jpg 880,357,933,371,0\n",
      "/content/gdrive/My Drive/TensorFlow-2.x-YOLOv3/custom_dataset/train/nightride_type3_001.mp4#t=723.jpg 362,630,652,719,0\n",
      "/content/gdrive/My Drive/TensorFlow-2.x-YOLOv3/custom_dataset/train/nightride_type3_001.mp4#t=23.jpg 567,268,645,291,0\n",
      "/content/gdrive/My Drive/TensorFlow-2.x-YOLOv3/custom_dataset/train/dayride_type1_001.mp4#t=1124.jpg 609,337,675,356,0 1069,404,1147,423,0\n",
      "/content/gdrive/My Drive/TensorFlow-2.x-YOLOv3/custom_dataset/train/dayride_type1_001.mp4#t=1462.jpg 552,387,655,413,0\n",
      "/content/gdrive/My Drive/TensorFlow-2.x-YOLOv3/custom_dataset/train/dayride_type1_001.mp4#t=482.jpg 119,377,209,400,0\n",
      "/content/gdrive/My Drive/TensorFlow-2.x-YOLOv3/custom_dataset/train/dayride_type1_001.mp4#t=910.jpg 599,366,674,386,0 916,338,980,355,0\n",
      "/content/gdrive/My Drive/TensorFlow-2.x-YOLOv3/custom_dataset/train/dayride_type1_001.mp4#t=519.jpg 937,366,1014,384,0 375,460,560,507,0 1172,347,1232,363,0\n",
      "/content/gdrive/My Drive/TensorFlow-2.x-YOLOv3/custom_dataset/train/dayride_type1_001.mp4#t=421.jpg 30,404,125,430,0 660,405,732,424,0\n",
      "/content/gdrive/My Drive/TensorFlow-2.x-YOLOv3/custom_dataset/train/dayride_type1_002.mp4#t=61.jpg 115,437,246,473,0 1091,437,1261,483,0\n",
      "/content/gdrive/My Drive/TensorFlow-2.x-YOLOv3/custom_dataset/train/dayride_type1_001.mp4#t=936.jpg 622,333,691,353,0\n",
      "/content/gdrive/My Drive/TensorFlow-2.x-YOLOv3/custom_dataset/train/dayride_type1_001.mp4#t=1400.jpg 571,395,634,416,0\n",
      "/content/gdrive/My Drive/TensorFlow-2.x-YOLOv3/custom_dataset/train/nightride_type3_001.mp4#t=53.jpg 674,247,772,279,0\n",
      "/content/gdrive/My Drive/TensorFlow-2.x-YOLOv3/custom_dataset/train/dayride_type1_001.mp4#t=753.jpg 518,444,780,506,0\n",
      "/content/gdrive/My Drive/TensorFlow-2.x-YOLOv3/custom_dataset/train/dayride_type1_001.mp4#t=600.jpg 628,528,875,602,0\n",
      "/content/gdrive/My Drive/TensorFlow-2.x-YOLOv3/custom_dataset/train/dayride_type1_001.mp4#t=1300.jpg 519,378,586,399,0\n",
      "/content/gdrive/My Drive/TensorFlow-2.x-YOLOv3/custom_dataset/train/dayride_type1_001.mp4#t=1115.jpg 516,451,665,489,0\n",
      "/content/gdrive/My Drive/TensorFlow-2.x-YOLOv3/custom_dataset/train/dayride_type1_001.mp4#t=617.jpg 685,406,794,435,0\n",
      "/content/gdrive/My Drive/TensorFlow-2.x-YOLOv3/custom_dataset/train/dayride_type1_001.mp4#t=274.jpg 611,389,685,410,0\n",
      "/content/gdrive/My Drive/TensorFlow-2.x-YOLOv3/custom_dataset/train/dayride_type1_001.mp4#t=915.jpg 594,376,672,398,0\n",
      "/content/gdrive/My Drive/TensorFlow-2.x-YOLOv3/custom_dataset/train/dayride_type1_001.mp4#t=698.jpg 498,339,562,358,0\n",
      "/content/gdrive/My Drive/TensorFlow-2.x-YOLOv3/custom_dataset/train/dayride_type1_001.mp4#t=1118.jpg 509,397,611,422,0\n",
      "/content/gdrive/My Drive/TensorFlow-2.x-YOLOv3/custom_dataset/train/dayride_type1_001.mp4#t=513.jpg 1102,405,1208,431,0\n",
      "/content/gdrive/My Drive/TensorFlow-2.x-YOLOv3/custom_dataset/train/dayride_type1_001.mp4#t=570.jpg 624,339,680,354,0\n",
      "/content/gdrive/My Drive/TensorFlow-2.x-YOLOv3/custom_dataset/train/dayride_type1_001.mp4#t=3.jpg 768,396,869,420,0\n",
      "/content/gdrive/My Drive/TensorFlow-2.x-YOLOv3/custom_dataset/train/dayride_type1_001.mp4#t=1202.jpg 459,572,768,648,0 1176,434,1280,463,0\n",
      "/content/gdrive/My Drive/TensorFlow-2.x-YOLOv3/custom_dataset/train/dayride_type1_001.mp4#t=1299.jpg 527,388,593,408,0\n",
      "/content/gdrive/My Drive/TensorFlow-2.x-YOLOv3/custom_dataset/train/dayride_type1_001.mp4#t=341.jpg 595,378,666,397,0 446,324,478,333,0\n",
      "/content/gdrive/My Drive/TensorFlow-2.x-YOLOv3/custom_dataset/train/dayride_type1_001.mp4#t=750.jpg 552,371,701,408,0\n",
      "/content/gdrive/My Drive/TensorFlow-2.x-YOLOv3/custom_dataset/train/dayride_type1_003.mp4#t=140.jpg 942,403,1040,434,0\n",
      "/content/gdrive/My Drive/TensorFlow-2.x-YOLOv3/custom_dataset/train/dayride_type1_001.mp4#t=820.jpg 198,386,279,409,0\n",
      "/content/gdrive/My Drive/TensorFlow-2.x-YOLOv3/custom_dataset/train/dayride_type1_001.mp4#t=540.jpg 601,418,684,440,0\n",
      "/content/gdrive/My Drive/TensorFlow-2.x-YOLOv3/custom_dataset/train/dayride_type1_003.mp4#t=324.jpg 1147,384,1248,412,0 628,527,870,594,0\n",
      "/content/gdrive/My Drive/TensorFlow-2.x-YOLOv3/custom_dataset/train/dayride_type1_001.mp4#t=200.jpg 762,391,871,422,0\n",
      "/content/gdrive/My Drive/TensorFlow-2.x-YOLOv3/custom_dataset/train/dayride_type1_003.mp4#t=92.jpg 208,376,329,414,0\n",
      "/content/gdrive/My Drive/TensorFlow-2.x-YOLOv3/custom_dataset/train/dayride_type1_001.mp4#t=781.jpg 115,384,228,413,0 602,355,667,371,0\n",
      "/content/gdrive/My Drive/TensorFlow-2.x-YOLOv3/custom_dataset/train/dayride_type1_001.mp4#t=1122.jpg 575,340,643,359,0\n",
      "/content/gdrive/My Drive/TensorFlow-2.x-YOLOv3/custom_dataset/train/dayride_type1_001.mp4#t=582.jpg 1048,394,1149,422,0\n",
      "/content/gdrive/My Drive/TensorFlow-2.x-YOLOv3/custom_dataset/train/dayride_type1_001.mp4#t=83.jpg 564,307,614,323,0\n",
      "/content/gdrive/My Drive/TensorFlow-2.x-YOLOv3/custom_dataset/train/dayride_type1_001.mp4#t=900.jpg 19,345,123,374,0\n",
      "/content/gdrive/My Drive/TensorFlow-2.x-YOLOv3/custom_dataset/train/dayride_type1_001.mp4#t=1395.jpg 520,506,651,541,0\n",
      "/content/gdrive/My Drive/TensorFlow-2.x-YOLOv3/custom_dataset/train/dayride_type1_001.mp4#t=1398.jpg 545,413,627,437,0\n",
      "/content/gdrive/My Drive/TensorFlow-2.x-YOLOv3/custom_dataset/train/dayride_type1_001.mp4#t=914.jpg 550,387,633,409,0\n",
      "/content/gdrive/My Drive/TensorFlow-2.x-YOLOv3/custom_dataset/train/dayride_type1_001.mp4#t=1203.jpg 1026,401,1116,425,0 471,548,745,615,0\n",
      "/content/gdrive/My Drive/TensorFlow-2.x-YOLOv3/custom_dataset/train/dayride_type1_001.mp4#t=893.jpg 356,476,597,536,0\n",
      "/content/gdrive/My Drive/TensorFlow-2.x-YOLOv3/custom_dataset/train/nightride_type3_001.mp4#t=347.jpg 550,333,636,360,0 998,364,1110,399,0\n",
      "/content/gdrive/My Drive/TensorFlow-2.x-YOLOv3/custom_dataset/train/dayride_type1_001.mp4#t=280.jpg 882,513,1049,561,0 1120,324,1174,341,0\n",
      "/content/gdrive/My Drive/TensorFlow-2.x-YOLOv3/custom_dataset/train/dayride_type1_001.mp4#t=1391.jpg 514,491,657,529,0\n",
      "/content/gdrive/My Drive/TensorFlow-2.x-YOLOv3/custom_dataset/train/dayride_type1_001.mp4#t=1092.jpg 10,367,113,392,0 1070,419,1159,443,0 519,520,734,575,0\n",
      "/content/gdrive/My Drive/TensorFlow-2.x-YOLOv3/custom_dataset/train/dayride_type1_001.mp4#t=267.jpg 610,346,656,361,0\n",
      "/content/gdrive/My Drive/TensorFlow-2.x-YOLOv3/custom_dataset/train/dayride_type1_002.mp4#t=816.jpg 1029,530,1256,605,0\n",
      "/content/gdrive/My Drive/TensorFlow-2.x-YOLOv3/custom_dataset/train/dayride_type1_001.mp4#t=593.jpg 654,395,766,427,0 235,335,296,353,0\n",
      "/content/gdrive/My Drive/TensorFlow-2.x-YOLOv3/custom_dataset/train/dayride_type1_001.mp4#t=1260.jpg 1132,423,1252,453,0 537,390,637,417,0\n",
      "/content/gdrive/My Drive/TensorFlow-2.x-YOLOv3/custom_dataset/train/dayride_type1_001.mp4#t=339.jpg 346,354,395,367,0 579,345,625,357,0\n",
      "/content/gdrive/My Drive/TensorFlow-2.x-YOLOv3/custom_dataset/train/dayride_type1_001.mp4#t=294.jpg 333,558,489,604,0\n",
      "/content/gdrive/My Drive/TensorFlow-2.x-YOLOv3/custom_dataset/train/nightride_type3_001.mp4#t=540.jpg 601,303,729,339,0\n",
      "/content/gdrive/My Drive/TensorFlow-2.x-YOLOv3/custom_dataset/train/dayride_type1_001.mp4#t=1132.jpg 1054,433,1138,455,0\n",
      "/content/gdrive/My Drive/TensorFlow-2.x-YOLOv3/custom_dataset/train/dayride_type1_001.mp4#t=344.jpg 636,387,708,409,0\n",
      "/content/gdrive/My Drive/TensorFlow-2.x-YOLOv3/custom_dataset/train/dayride_type1_001.mp4#t=423.jpg 226,346,286,361,0 598,403,673,423,0\n",
      "/content/gdrive/My Drive/TensorFlow-2.x-YOLOv3/custom_dataset/train/dayride_type1_003.mp4#t=326.jpg 193,461,279,490,0 625,525,868,591,0\n",
      "/content/gdrive/My Drive/TensorFlow-2.x-YOLOv3/custom_dataset/train/dayride_type1_001.mp4#t=1397.jpg 524,454,625,483,0\n",
      "/content/gdrive/My Drive/TensorFlow-2.x-YOLOv3/custom_dataset/train/nightride_type3_001.mp4#t=256.jpg 565,355,677,389,0\n",
      "/content/gdrive/My Drive/TensorFlow-2.x-YOLOv3/custom_dataset/train/nightride_type3_001.mp4#t=13.jpg 739,334,884,373,0\n",
      "/content/gdrive/My Drive/TensorFlow-2.x-YOLOv3/custom_dataset/train/dayride_type1_001.mp4#t=815.jpg 235,382,303,400,0\n",
      "/content/gdrive/My Drive/TensorFlow-2.x-YOLOv3/custom_dataset/train/dayride_type1_001.mp4#t=1304.jpg 536,368,603,388,0\n",
      "/content/gdrive/My Drive/TensorFlow-2.x-YOLOv3/custom_dataset/train/dayride_type1_003.mp4#t=42.jpg 203,404,281,433,0\n",
      "/content/gdrive/My Drive/TensorFlow-2.x-YOLOv3/custom_dataset/train/dayride_type1_001.mp4#t=272.jpg 628,384,696,402,0\n",
      "/content/gdrive/My Drive/TensorFlow-2.x-YOLOv3/custom_dataset/train/dayride_type1_001.mp4#t=528.jpg 485,392,590,421,0\n",
      "/content/gdrive/My Drive/TensorFlow-2.x-YOLOv3/custom_dataset/train/dayride_type1_001.mp4#t=466.jpg 624,439,786,483,0\n",
      "/content/gdrive/My Drive/TensorFlow-2.x-YOLOv3/custom_dataset/train/dayride_type1_001.mp4#t=1150.jpg 516,422,648,452,0 1147,414,1257,445,0\n",
      "/content/gdrive/My Drive/TensorFlow-2.x-YOLOv3/custom_dataset/train/dayride_type1_001.mp4#t=1550.jpg 534,411,621,437,0\n",
      "/content/gdrive/My Drive/TensorFlow-2.x-YOLOv3/custom_dataset/train/dayride_type1_003.mp4#t=52.jpg 98,375,182,403,0 627,430,719,456,0\n",
      "/content/gdrive/My Drive/TensorFlow-2.x-YOLOv3/custom_dataset/train/nightride_type3_001.mp4#t=113.jpg 370,533,599,594,0\n",
      "/content/gdrive/My Drive/TensorFlow-2.x-YOLOv3/custom_dataset/train/nightride_type3_001.mp4#t=112.jpg 368,555,605,614,0 1030,289,1120,318,0\n",
      "/content/gdrive/My Drive/TensorFlow-2.x-YOLOv3/custom_dataset/train/dayride_type1_002.mp4#t=334.jpg 255,478,439,530,0\n",
      "/content/gdrive/My Drive/TensorFlow-2.x-YOLOv3/custom_dataset/train/dayride_type1_001.mp4#t=299.jpg 1061,412,1132,434,0 597,392,657,410,0\n",
      "/content/gdrive/My Drive/TensorFlow-2.x-YOLOv3/custom_dataset/train/dayride_type1_003.mp4#t=315.jpg 625,520,868,587,0\n",
      "/content/gdrive/My Drive/TensorFlow-2.x-YOLOv3/custom_dataset/train/dayride_type1_001.mp4#t=1063.jpg 526,603,714,647,0\n",
      "/content/gdrive/My Drive/TensorFlow-2.x-YOLOv3/custom_dataset/train/dayride_type1_001.mp4#t=553.jpg 844,368,922,390,0\n",
      "/content/gdrive/My Drive/TensorFlow-2.x-YOLOv3/custom_dataset/train/dayride_type1_001.mp4#t=890.jpg 351,473,590,530,0 776,390,869,414,0\n",
      "/content/gdrive/My Drive/TensorFlow-2.x-YOLOv3/custom_dataset/train/dayride_type1_001.mp4#t=599.jpg 628,528,871,604,0\n",
      "/content/gdrive/My Drive/TensorFlow-2.x-YOLOv3/custom_dataset/train/dayride_type1_001.mp4#t=1083.jpg 608,361,709,386,0\n",
      "/content/gdrive/My Drive/TensorFlow-2.x-YOLOv3/custom_dataset/train/nightride_type3_001.mp4#t=410.jpg 431,389,568,428,0\n",
      "/content/gdrive/My Drive/TensorFlow-2.x-YOLOv3/custom_dataset/train/dayride_type1_002.mp4#t=225.jpg 782,432,922,469,0\n",
      "/content/gdrive/My Drive/TensorFlow-2.x-YOLOv3/custom_dataset/train/dayride_type1_001.mp4#t=1353.jpg 617,343,676,360,0 1007,376,1071,396,0\n",
      "/content/gdrive/My Drive/TensorFlow-2.x-YOLOv3/custom_dataset/train/dayride_type1_002.mp4#t=72.jpg 90,468,262,523,0\n",
      "/content/gdrive/My Drive/TensorFlow-2.x-YOLOv3/custom_dataset/train/dayride_type1_001.mp4#t=906.jpg 417,464,560,502,0 703,344,769,362,0\n",
      "/content/gdrive/My Drive/TensorFlow-2.x-YOLOv3/custom_dataset/train/dayride_type1_001.mp4#t=899.jpg 410,355,513,383,0\n",
      "/content/gdrive/My Drive/TensorFlow-2.x-YOLOv3/custom_dataset/train/dayride_type1_001.mp4#t=561.jpg 541,393,643,420,0 1002,384,1083,405,0\n",
      "/content/gdrive/My Drive/TensorFlow-2.x-YOLOv3/custom_dataset/train/nightride_type3_001.mp4#t=724.jpg 398,593,661,673,0\n",
      "/content/gdrive/My Drive/TensorFlow-2.x-YOLOv3/custom_dataset/train/dayride_type1_001.mp4#t=786.jpg 487,338,567,359,0\n",
      "/content/gdrive/My Drive/TensorFlow-2.x-YOLOv3/custom_dataset/train/dayride_type1_001.mp4#t=493.jpg 762,426,843,450,0\n",
      "/content/gdrive/My Drive/TensorFlow-2.x-YOLOv3/custom_dataset/train/dayride_type1_001.mp4#t=580.jpg 1109,387,1213,419,0\n",
      "/content/gdrive/My Drive/TensorFlow-2.x-YOLOv3/custom_dataset/train/nightride_type3_001.mp4#t=108.jpg 407,436,579,483,0\n",
      "/content/gdrive/My Drive/TensorFlow-2.x-YOLOv3/custom_dataset/train/dayride_type1_001.mp4#t=1393.jpg 453,665,695,719,0\n",
      "/content/gdrive/My Drive/TensorFlow-2.x-YOLOv3/custom_dataset/train/dayride_type1_001.mp4#t=270.jpg 618,357,673,373,0\n",
      "/content/gdrive/My Drive/TensorFlow-2.x-YOLOv3/custom_dataset/train/dayride_type1_002.mp4#t=650.jpg 675,649,873,706,0\n",
      "/content/gdrive/My Drive/TensorFlow-2.x-YOLOv3/custom_dataset/train/dayride_type1_001.mp4#t=1059.jpg 526,600,714,648,0\n",
      "/content/gdrive/My Drive/TensorFlow-2.x-YOLOv3/custom_dataset/train/dayride_type1_001.mp4#t=521.jpg 1116,427,1264,460,0 313,545,560,608,0\n",
      "/content/gdrive/My Drive/TensorFlow-2.x-YOLOv3/custom_dataset/train/dayride_type1_001.mp4#t=833.jpg 691,592,900,646,0 1185,404,1280,433,0\n",
      "/content/gdrive/My Drive/TensorFlow-2.x-YOLOv3/custom_dataset/train/dayride_type1_001.mp4#t=674.jpg 506,376,573,395,0\n",
      "/content/gdrive/My Drive/TensorFlow-2.x-YOLOv3/custom_dataset/train/dayride_type1_001.mp4#t=564.jpg 506,373,595,397,0\n",
      "/content/gdrive/My Drive/TensorFlow-2.x-YOLOv3/custom_dataset/train/dayride_type1_001.mp4#t=898.jpg 600,383,724,417,0 1034,392,1102,412,0\n",
      "/content/gdrive/My Drive/TensorFlow-2.x-YOLOv3/custom_dataset/train/nightride_type3_001.mp4#t=57.jpg 660,257,750,283,0\n",
      "/content/gdrive/My Drive/TensorFlow-2.x-YOLOv3/custom_dataset/train/dayride_type1_001.mp4#t=438.jpg 633,594,814,639,0\n",
      "/content/gdrive/My Drive/TensorFlow-2.x-YOLOv3/custom_dataset/train/dayride_type1_001.mp4#t=894.jpg 464,500,727,564,0\n",
      "/content/gdrive/My Drive/TensorFlow-2.x-YOLOv3/custom_dataset/train/dayride_type1_003.mp4#t=99.jpg 666,606,890,666,0\n",
      "/content/gdrive/My Drive/TensorFlow-2.x-YOLOv3/custom_dataset/train/nightride_type3_001.mp4#t=349.jpg 392,333,483,362,0 805,472,986,527,0\n",
      "/content/gdrive/My Drive/TensorFlow-2.x-YOLOv3/custom_dataset/train/nightride_type3_001.mp4#t=54.jpg 705,255,805,283,0\n",
      "/content/gdrive/My Drive/TensorFlow-2.x-YOLOv3/custom_dataset/train/dayride_type1_001.mp4#t=279.jpg 826,465,951,498,0\n",
      "/content/gdrive/My Drive/TensorFlow-2.x-YOLOv3/custom_dataset/train/dayride_type1_001.mp4#t=909.jpg 598,370,673,390,0\n",
      "/content/gdrive/My Drive/TensorFlow-2.x-YOLOv3/custom_dataset/train/dayride_type1_001.mp4#t=587.jpg 590,371,680,398,0\n",
      "/content/gdrive/My Drive/TensorFlow-2.x-YOLOv3/custom_dataset/train/dayride_type1_001.mp4#t=471.jpg 624,406,745,437,0\n",
      "/content/gdrive/My Drive/TensorFlow-2.x-YOLOv3/custom_dataset/train/nightride_type3_001.mp4#t=71.jpg 427,316,571,352,0 33,229,127,254,0\n",
      "/content/gdrive/My Drive/TensorFlow-2.x-YOLOv3/custom_dataset/train/dayride_type1_001.mp4#t=1261.jpg 982,392,1089,420,0\n",
      "/content/gdrive/My Drive/TensorFlow-2.x-YOLOv3/custom_dataset/train/dayride_type1_001.mp4#t=787.jpg 483,353,568,376,0\n",
      "/content/gdrive/My Drive/TensorFlow-2.x-YOLOv3/custom_dataset/train/dayride_type1_001.mp4#t=1082.jpg 600,332,682,354,0\n",
      "/content/gdrive/My Drive/TensorFlow-2.x-YOLOv3/custom_dataset/train/dayride_type1_001.mp4#t=789.jpg 526,343,611,365,0 27,338,123,362,0\n",
      "/content/gdrive/My Drive/TensorFlow-2.x-YOLOv3/custom_dataset/train/dayride_type1_001.mp4#t=1056.jpg 549,485,673,515,0\n",
      "/content/gdrive/My Drive/TensorFlow-2.x-YOLOv3/custom_dataset/train/dayride_type1_001.mp4#t=120.jpg 311,376,375,395,0\n",
      "/content/gdrive/My Drive/TensorFlow-2.x-YOLOv3/custom_dataset/train/dayride_type1_002.mp4#t=642.jpg 620,427,699,450,0\n",
      "/content/gdrive/My Drive/TensorFlow-2.x-YOLOv3/custom_dataset/train/dayride_type1_001.mp4#t=821.jpg 640,401,728,424,0\n",
      "/content/gdrive/My Drive/TensorFlow-2.x-YOLOv3/custom_dataset/train/dayride_type1_001.mp4#t=446.jpg 52,382,153,409,0 595,351,644,365,0\n",
      "/content/gdrive/My Drive/TensorFlow-2.x-YOLOv3/custom_dataset/train/dayride_type1_001.mp4#t=1170.jpg 1023,440,1125,465,0\n",
      "/content/gdrive/My Drive/TensorFlow-2.x-YOLOv3/custom_dataset/train/dayride_type1_001.mp4#t=307.jpg 961,389,1034,410,0\n",
      "/content/gdrive/My Drive/TensorFlow-2.x-YOLOv3/custom_dataset/train/nightride_type3_001.mp4#t=7.jpg 693,439,942,508,0 276,269,336,286,0\n",
      "/content/gdrive/My Drive/TensorFlow-2.x-YOLOv3/custom_dataset/train/nightride_type3_001.mp4#t=558.jpg 612,300,715,331,0 978,318,1060,344,0\n",
      "/content/gdrive/My Drive/TensorFlow-2.x-YOLOv3/custom_dataset/train/dayride_type1_001.mp4#t=186.jpg 932,353,992,370,0\n",
      "/content/gdrive/My Drive/TensorFlow-2.x-YOLOv3/custom_dataset/train/nightride_type3_001.mp4#t=51.jpg 540,368,778,439,0\n",
      "/content/gdrive/My Drive/TensorFlow-2.x-YOLOv3/custom_dataset/train/dayride_type1_001.mp4#t=1605.jpg 626,452,734,483,0\n",
      "/content/gdrive/My Drive/TensorFlow-2.x-YOLOv3/custom_dataset/train/dayride_type1_001.mp4#t=1089.jpg 575,397,685,425,0\n",
      "/content/gdrive/My Drive/TensorFlow-2.x-YOLOv3/custom_dataset/train/dayride_type1_001.mp4#t=436.jpg 1099,401,1191,421,0\n",
      "/content/gdrive/My Drive/TensorFlow-2.x-YOLOv3/custom_dataset/train/dayride_type1_001.mp4#t=897.jpg 622,429,764,464,0\n",
      "/content/gdrive/My Drive/TensorFlow-2.x-YOLOv3/custom_dataset/train/dayride_type1_001.mp4#t=697.jpg 534,353,613,374,0\n",
      "/content/gdrive/My Drive/TensorFlow-2.x-YOLOv3/custom_dataset/train/dayride_type1_001.mp4#t=276.jpg 692,417,790,443,0\n",
      "/content/gdrive/My Drive/TensorFlow-2.x-YOLOv3/custom_dataset/train/dayride_type1_001.mp4#t=785.jpg 491,331,562,352,0\n",
      "/content/gdrive/My Drive/TensorFlow-2.x-YOLOv3/custom_dataset/train/dayride_type1_001.mp4#t=165.jpg 1071,381,1171,407,0\n",
      "/content/gdrive/My Drive/TensorFlow-2.x-YOLOv3/custom_dataset/train/dayride_type1_001.mp4#t=150.jpg 623,336,685,356,0\n",
      "/content/gdrive/My Drive/TensorFlow-2.x-YOLOv3/custom_dataset/train/dayride_type1_001.mp4#t=56.jpg 597,404,741,451,0\n",
      "/content/gdrive/My Drive/TensorFlow-2.x-YOLOv3/custom_dataset/train/dayride_type1_001.mp4#t=525.jpg 513,389,621,418,0\n",
      "/content/gdrive/My Drive/TensorFlow-2.x-YOLOv3/custom_dataset/train/nightride_type3_001.mp4#t=312.jpg 641,368,752,401,0\n",
      "/content/gdrive/My Drive/TensorFlow-2.x-YOLOv3/custom_dataset/train/dayride_type1_001.mp4#t=152.jpg 550,337,605,356,0\n",
      "/content/gdrive/My Drive/TensorFlow-2.x-YOLOv3/custom_dataset/train/dayride_type1_001.mp4#t=1371.jpg 912,348,989,372,0\n",
      "/content/gdrive/My Drive/TensorFlow-2.x-YOLOv3/custom_dataset/train/dayride_type1_001.mp4#t=1354.jpg 595,355,664,376,0\n",
      "/content/gdrive/My Drive/TensorFlow-2.x-YOLOv3/custom_dataset/train/dayride_type1_001.mp4#t=429.jpg 617,453,729,483,0\n",
      "/content/gdrive/My Drive/TensorFlow-2.x-YOLOv3/custom_dataset/train/dayride_type1_002.mp4#t=6.jpg 845,373,950,403,0\n",
      "/content/gdrive/My Drive/TensorFlow-2.x-YOLOv3/custom_dataset/train/dayride_type1_001.mp4#t=509.jpg 853,339,925,358,0\n",
      "/content/gdrive/My Drive/TensorFlow-2.x-YOLOv3/custom_dataset/train/dayride_type1_001.mp4#t=488.jpg 928,437,1044,471,0 567,652,774,709,0\n",
      "/content/gdrive/My Drive/TensorFlow-2.x-YOLOv3/custom_dataset/train/dayride_type1_001.mp4#t=835.jpg 539,431,623,453,0\n",
      "/content/gdrive/My Drive/TensorFlow-2.x-YOLOv3/custom_dataset/train/nightride_type3_001.mp4#t=18.jpg 602,313,713,344,0\n",
      "/content/gdrive/My Drive/TensorFlow-2.x-YOLOv3/custom_dataset/train/dayride_type1_001.mp4#t=84.jpg 549,333,635,355,0\n",
      "/content/gdrive/My Drive/TensorFlow-2.x-YOLOv3/custom_dataset/train/dayride_type1_001.mp4#t=791.jpg 525,339,609,362,0\n",
      "/content/gdrive/My Drive/TensorFlow-2.x-YOLOv3/custom_dataset/train/dayride_type1_001.mp4#t=164.jpg 970,345,1045,366,0\n",
      "/content/gdrive/My Drive/TensorFlow-2.x-YOLOv3/custom_dataset/train/dayride_type1_003.mp4#t=125.jpg 736,407,834,436,0\n",
      "/content/gdrive/My Drive/TensorFlow-2.x-YOLOv3/custom_dataset/train/dayride_type1_001.mp4#t=1309.jpg 68,424,160,449,0\n",
      "/content/gdrive/My Drive/TensorFlow-2.x-YOLOv3/custom_dataset/train/dayride_type1_001.mp4#t=1465.jpg 505,411,635,447,0\n",
      "/content/gdrive/My Drive/TensorFlow-2.x-YOLOv3/custom_dataset/train/dayride_type1_001.mp4#t=1181.jpg 540,409,693,449,0 973,368,1047,388,0\n",
      "/content/gdrive/My Drive/TensorFlow-2.x-YOLOv3/custom_dataset/train/nightride_type3_001.mp4#t=6.jpg 692,437,936,510,0 180,292,257,314,0\n",
      "/content/gdrive/My Drive/TensorFlow-2.x-YOLOv3/custom_dataset/train/nightride_type3_001.mp4#t=17.jpg 640,314,767,350,0\n",
      "/content/gdrive/My Drive/TensorFlow-2.x-YOLOv3/custom_dataset/train/dayride_type1_001.mp4#t=892.jpg 352,470,589,531,0\n",
      "/content/gdrive/My Drive/TensorFlow-2.x-YOLOv3/custom_dataset/train/dayride_type1_001.mp4#t=343.jpg 644,388,715,408,0\n",
      "/content/gdrive/My Drive/TensorFlow-2.x-YOLOv3/custom_dataset/train/dayride_type1_003.mp4#t=316.jpg 1169,425,1267,453,0 624,526,867,593,0\n",
      "/content/gdrive/My Drive/TensorFlow-2.x-YOLOv3/custom_dataset/train/dayride_type1_001.mp4#t=362.jpg 937,345,1007,362,0\n",
      "/content/gdrive/My Drive/TensorFlow-2.x-YOLOv3/custom_dataset/train/nightride_type3_001.mp4#t=408.jpg 473,330,577,360,0\n",
      "/content/gdrive/My Drive/TensorFlow-2.x-YOLOv3/custom_dataset/train/dayride_type1_001.mp4#t=888.jpg 335,391,487,428,0\n",
      "/content/gdrive/My Drive/TensorFlow-2.x-YOLOv3/custom_dataset/train/dayride_type1_001.mp4#t=1463.jpg 536,407,654,437,0\n",
      "/content/gdrive/My Drive/TensorFlow-2.x-YOLOv3/custom_dataset/train/dayride_type1_001.mp4#t=536.jpg 572,409,662,431,0\n",
      "/content/gdrive/My Drive/TensorFlow-2.x-YOLOv3/custom_dataset/train/dayride_type1_001.mp4#t=452.jpg 7,414,119,445,0 618,372,677,390,0\n",
      "/content/gdrive/My Drive/TensorFlow-2.x-YOLOv3/custom_dataset/train/dayride_type1_001.mp4#t=1175.jpg 953,385,1023,404,0\n",
      "/content/gdrive/My Drive/TensorFlow-2.x-YOLOv3/custom_dataset/train/dayride_type1_001.mp4#t=301.jpg 1108,452,1219,480,0\n",
      "/content/gdrive/My Drive/TensorFlow-2.x-YOLOv3/custom_dataset/train/dayride_type1_001.mp4#t=769.jpg 516,459,795,522,0\n",
      "/content/gdrive/My Drive/TensorFlow-2.x-YOLOv3/custom_dataset/train/dayride_type1_001.mp4#t=533.jpg 880,379,966,403,0\n",
      "/content/gdrive/My Drive/TensorFlow-2.x-YOLOv3/custom_dataset/train/dayride_type1_001.mp4#t=1143.jpg 540,391,640,416,0\n",
      "/content/gdrive/My Drive/TensorFlow-2.x-YOLOv3/custom_dataset/train/dayride_type1_001.mp4#t=735.jpg 30,427,131,454,0\n",
      "/content/gdrive/My Drive/TensorFlow-2.x-YOLOv3/custom_dataset/train/dayride_type1_001.mp4#t=1414.jpg 542,430,628,455,0 1087,437,1183,463,0\n",
      "/content/gdrive/My Drive/TensorFlow-2.x-YOLOv3/custom_dataset/train/dayride_type1_001.mp4#t=451.jpg 119,395,216,423,0 651,380,713,396,0\n",
      "/content/gdrive/My Drive/TensorFlow-2.x-YOLOv3/custom_dataset/train/dayride_type1_001.mp4#t=292.jpg 193,522,340,570,0\n",
      "/content/gdrive/My Drive/TensorFlow-2.x-YOLOv3/custom_dataset/train/dayride_type1_001.mp4#t=1073.jpg 601,513,741,549,0\n",
      "/content/gdrive/My Drive/TensorFlow-2.x-YOLOv3/custom_dataset/train/nightride_type3_001.mp4#t=72.jpg 325,353,482,393,0\n",
      "/content/gdrive/My Drive/TensorFlow-2.x-YOLOv3/custom_dataset/train/dayride_type1_001.mp4#t=1470.jpg 501,491,691,541,0 1040,345,1108,366,0\n",
      "/content/gdrive/My Drive/TensorFlow-2.x-YOLOv3/custom_dataset/train/nightride_type3_001.mp4#t=59.jpg 628,243,703,266,0\n",
      "/content/gdrive/My Drive/TensorFlow-2.x-YOLOv3/custom_dataset/train/dayride_type1_001.mp4#t=1199.jpg 458,572,766,649,0\n",
      "/content/gdrive/My Drive/TensorFlow-2.x-YOLOv3/custom_dataset/train/dayride_type1_001.mp4#t=1356.jpg 606,360,682,383,0\n",
      "/content/gdrive/My Drive/TensorFlow-2.x-YOLOv3/custom_dataset/train/dayride_type1_001.mp4#t=1551.jpg 555,420,646,447,0\n",
      "/content/gdrive/My Drive/TensorFlow-2.x-YOLOv3/custom_dataset/train/dayride_type1_001.mp4#t=1062.jpg 527,601,714,646,0\n",
      "/content/gdrive/My Drive/TensorFlow-2.x-YOLOv3/custom_dataset/train/nightride_type3_001.mp4#t=585.jpg 587,373,761,425,0\n",
      "/content/gdrive/My Drive/TensorFlow-2.x-YOLOv3/custom_dataset/train/dayride_type1_002.mp4#t=658.jpg 166,441,291,478,0\n",
      "/content/gdrive/My Drive/TensorFlow-2.x-YOLOv3/custom_dataset/train/dayride_type1_001.mp4#t=1159.jpg 593,400,682,422,0 1190,393,1274,417,0\n",
      "/content/gdrive/My Drive/TensorFlow-2.x-YOLOv3/custom_dataset/train/dayride_type1_001.mp4#t=809.jpg 537,466,641,490,0\n",
      "/content/gdrive/My Drive/TensorFlow-2.x-YOLOv3/custom_dataset/train/dayride_type1_001.mp4#t=1399.jpg 553,389,625,411,0\n",
      "/content/gdrive/My Drive/TensorFlow-2.x-YOLOv3/custom_dataset/train/dayride_type1_001.mp4#t=1302.jpg 550,384,616,402,0\n",
      "/content/gdrive/My Drive/TensorFlow-2.x-YOLOv3/custom_dataset/train/dayride_type1_001.mp4#t=1116.jpg 506,450,644,484,0\n",
      "/content/gdrive/My Drive/TensorFlow-2.x-YOLOv3/custom_dataset/train/dayride_type1_001.mp4#t=624.jpg 1160,440,1278,472,0\n",
      "/content/gdrive/My Drive/TensorFlow-2.x-YOLOv3/custom_dataset/train/dayride_type1_001.mp4#t=520.jpg 340,508,563,562,0 868,344,929,360,0\n",
      "/content/gdrive/My Drive/TensorFlow-2.x-YOLOv3/custom_dataset/train/dayride_type1_001.mp4#t=414.jpg 593,407,668,424,0\n",
      "/content/gdrive/My Drive/TensorFlow-2.x-YOLOv3/custom_dataset/train/dayride_type1_001.mp4#t=1091.jpg 532,454,692,496,0 1183,454,1280,485,0 872,359,933,376,0 95,352,185,380,0\n",
      "/content/gdrive/My Drive/TensorFlow-2.x-YOLOv3/custom_dataset/train/nightride_type3_001.mp4#t=36.jpg 574,251,683,282,0\n",
      "/content/gdrive/My Drive/TensorFlow-2.x-YOLOv3/custom_dataset/train/dayride_type1_001.mp4#t=1394.jpg 475,601,679,657,0\n",
      "/content/gdrive/My Drive/TensorFlow-2.x-YOLOv3/custom_dataset/train/dayride_type1_001.mp4#t=374.jpg 1047,421,1136,445,0\n",
      "/content/gdrive/My Drive/TensorFlow-2.x-YOLOv3/custom_dataset/train/dayride_type1_001.mp4#t=916.jpg 556,372,624,390,0\n",
      "/content/gdrive/My Drive/TensorFlow-2.x-YOLOv3/custom_dataset/train/dayride_type1_001.mp4#t=935.jpg 626,330,689,349,0\n",
      "/content/gdrive/My Drive/TensorFlow-2.x-YOLOv3/custom_dataset/train/dayride_type1_001.mp4#t=896.jpg 464,497,716,558,0\n",
      "/content/gdrive/My Drive/TensorFlow-2.x-YOLOv3/custom_dataset/train/nightride_type3_001.mp4#t=353.jpg 322,309,407,336,0\n",
      "/content/gdrive/My Drive/TensorFlow-2.x-YOLOv3/custom_dataset/train/dayride_type1_001.mp4#t=585.jpg 603,341,668,362,0\n",
      "/content/gdrive/My Drive/TensorFlow-2.x-YOLOv3/custom_dataset/train/dayride_type1_002.mp4#t=531.jpg 80,402,178,430,0 662,436,810,482,0\n",
      "/content/gdrive/My Drive/TensorFlow-2.x-YOLOv3/custom_dataset/train/dayride_type1_001.mp4#t=445.jpg 606,377,661,393,0\n",
      "/content/gdrive/My Drive/TensorFlow-2.x-YOLOv3/custom_dataset/train/dayride_type1_001.mp4#t=834.jpg 644,483,764,512,0\n",
      "/content/gdrive/My Drive/TensorFlow-2.x-YOLOv3/custom_dataset/train/nightride_type3_001.mp4#t=412.jpg 394,466,583,522,0\n",
      "/content/gdrive/My Drive/TensorFlow-2.x-YOLOv3/custom_dataset/train/nightride_type3_001.mp4#t=728.jpg 1055,432,1217,487,0\n",
      "/content/gdrive/My Drive/TensorFlow-2.x-YOLOv3/custom_dataset/train/dayride_type1_001.mp4#t=1297.jpg 990,395,1070,416,0\n",
      "/content/gdrive/My Drive/TensorFlow-2.x-YOLOv3/custom_dataset/train/nightride_type3_001.mp4#t=259.jpg 540,504,748,569,0\n",
      "/content/gdrive/My Drive/TensorFlow-2.x-YOLOv3/custom_dataset/train/dayride_type1_001.mp4#t=1075.jpg 638,434,737,461,0\n",
      "/content/gdrive/My Drive/TensorFlow-2.x-YOLOv3/custom_dataset/train/dayride_type1_001.mp4#t=1469.jpg 479,539,737,608,0 1127,358,1206,380,0\n",
      "/content/gdrive/My Drive/TensorFlow-2.x-YOLOv3/custom_dataset/train/dayride_type1_002.mp4#t=647.jpg 551,549,697,605,0\n",
      "/content/gdrive/My Drive/TensorFlow-2.x-YOLOv3/custom_dataset/train/dayride_type1_002.mp4#t=827.jpg 657,525,853,585,0\n",
      "/content/gdrive/My Drive/TensorFlow-2.x-YOLOv3/custom_dataset/train/dayride_type1_003.mp4#t=184.jpg 210,447,297,475,0\n",
      "/content/gdrive/My Drive/TensorFlow-2.x-YOLOv3/custom_dataset/train/dayride_type1_001.mp4#t=1151.jpg 497,467,666,507,0\n",
      "/content/gdrive/My Drive/TensorFlow-2.x-YOLOv3/custom_dataset/train/dayride_type1_001.mp4#t=1553.jpg 566,447,675,477,0\n",
      "/content/gdrive/My Drive/TensorFlow-2.x-YOLOv3/custom_dataset/train/nightride_type3_001.mp4#t=21.jpg 556,276,650,304,0\n",
      "/content/gdrive/My Drive/TensorFlow-2.x-YOLOv3/custom_dataset/train/dayride_type1_001.mp4#t=770.jpg 541,429,752,477,0\n",
      "/content/gdrive/My Drive/TensorFlow-2.x-YOLOv3/custom_dataset/train/dayride_type1_001.mp4#t=1259.jpg 517,451,682,491,0\n",
      "/content/gdrive/My Drive/TensorFlow-2.x-YOLOv3/custom_dataset/train/nightride_type3_001.mp4#t=411.jpg 405,438,578,486,0\n",
      "/content/gdrive/My Drive/TensorFlow-2.x-YOLOv3/custom_dataset/train/dayride_type1_002.mp4#t=793.jpg 619,620,787,661,0\n",
      "/content/gdrive/My Drive/TensorFlow-2.x-YOLOv3/custom_dataset/train/dayride_type1_001.mp4#t=243.jpg 544,369,598,385,0\n",
      "/content/gdrive/My Drive/TensorFlow-2.x-YOLOv3/custom_dataset/train/dayride_type1_001.mp4#t=281.jpg 955,603,1176,664,0\n",
      "/content/gdrive/My Drive/TensorFlow-2.x-YOLOv3/custom_dataset/train/dayride_type1_001.mp4#t=603.jpg 632,533,869,597,0\n",
      "/content/gdrive/My Drive/TensorFlow-2.x-YOLOv3/custom_dataset/train/dayride_type1_003.mp4#t=312.jpg 663,406,794,443,0 1089,417,1170,440,0\n",
      "/content/gdrive/My Drive/TensorFlow-2.x-YOLOv3/custom_dataset/train/dayride_type1_001.mp4#t=1131.jpg 36,441,267,500,0\n",
      "/content/gdrive/My Drive/TensorFlow-2.x-YOLOv3/custom_dataset/train/dayride_type1_001.mp4#t=1209.jpg 578,352,658,374,0 64,400,170,428,0\n",
      "/content/gdrive/My Drive/TensorFlow-2.x-YOLOv3/custom_dataset/train/dayride_type1_003.mp4#t=98.jpg 667,553,852,602,0 38,447,145,486,0\n",
      "/content/gdrive/My Drive/TensorFlow-2.x-YOLOv3/custom_dataset/train/dayride_type1_001.mp4#t=1468.jpg 881,504,1100,568,0\n",
      "/content/gdrive/My Drive/TensorFlow-2.x-YOLOv3/custom_dataset/train/dayride_type1_001.mp4#t=1125.jpg 599,339,672,360,0\n",
      "/content/gdrive/My Drive/TensorFlow-2.x-YOLOv3/custom_dataset/train/dayride_type1_001.mp4#t=1208.jpg 73,404,181,436,0 615,351,689,372,0 891,346,949,363,0\n",
      "/content/gdrive/My Drive/TensorFlow-2.x-YOLOv3/custom_dataset/train/nightride_type3_001.mp4#t=541.jpg 599,349,765,398,0\n",
      "/content/gdrive/My Drive/TensorFlow-2.x-YOLOv3/custom_dataset/train/dayride_type1_001.mp4#t=1186.jpg 530,464,731,514,0 1036,386,1120,407,0\n",
      "/content/gdrive/My Drive/TensorFlow-2.x-YOLOv3/custom_dataset/train/nightride_type3_001.mp4#t=487.jpg 1107,391,1261,434,0\n",
      "/content/gdrive/My Drive/TensorFlow-2.x-YOLOv3/custom_dataset/train/dayride_type1_001.mp4#t=1207.jpg 595,376,696,404,0 912,358,977,377,0\n",
      "/content/gdrive/My Drive/TensorFlow-2.x-YOLOv3/custom_dataset/train/nightride_type3_001.mp4#t=117.jpg 714,271,782,295,0\n",
      "/content/gdrive/My Drive/TensorFlow-2.x-YOLOv3/custom_dataset/train/dayride_type1_001.mp4#t=782.jpg 614,329,685,347,0\n",
      "/content/gdrive/My Drive/TensorFlow-2.x-YOLOv3/custom_dataset/train/dayride_type1_001.mp4#t=1552.jpg 592,440,698,469,0\n",
      "/content/gdrive/My Drive/TensorFlow-2.x-YOLOv3/custom_dataset/train/dayride_type1_001.mp4#t=790.jpg 530,340,613,361,0\n",
      "/content/gdrive/My Drive/TensorFlow-2.x-YOLOv3/custom_dataset/train/dayride_type1_001.mp4#t=259.jpg 990,380,1058,399,0\n",
      "/content/gdrive/My Drive/TensorFlow-2.x-YOLOv3/custom_dataset/train/dayride_type1_001.mp4#t=1472.jpg 537,484,722,538,0\n",
      "/content/gdrive/My Drive/TensorFlow-2.x-YOLOv3/custom_dataset/train/nightride_type3_001.mp4#t=258.jpg 550,467,735,525,0\n",
      "/content/gdrive/My Drive/TensorFlow-2.x-YOLOv3/custom_dataset/train/nightride_type3_001.mp4#t=162.jpg 570,399,712,438,0 1008,283,1093,309,0\n",
      "/content/gdrive/My Drive/TensorFlow-2.x-YOLOv3/custom_dataset/train/dayride_type1_002.mp4#t=822.jpg 652,558,883,627,0\n",
      "/content/gdrive/My Drive/TensorFlow-2.x-YOLOv3/custom_dataset/train/dayride_type1_001.mp4#t=464.jpg 608,412,742,448,0\n",
      "/content/gdrive/My Drive/TensorFlow-2.x-YOLOv3/custom_dataset/train/dayride_type1_002.mp4#t=830.jpg 656,497,831,552,0\n",
      "/content/gdrive/My Drive/TensorFlow-2.x-YOLOv3/custom_dataset/train/dayride_type1_001.mp4#t=675.jpg 564,365,632,385,0\n",
      "/content/gdrive/My Drive/TensorFlow-2.x-YOLOv3/custom_dataset/train/dayride_type1_002.mp4#t=328.jpg 673,388,783,427,0\n",
      "/content/gdrive/My Drive/TensorFlow-2.x-YOLOv3/custom_dataset/train/dayride_type1_001.mp4#t=484.jpg 567,403,658,428,0\n",
      "/content/gdrive/My Drive/TensorFlow-2.x-YOLOv3/custom_dataset/train/dayride_type1_001.mp4#t=490.jpg 456,408,528,425,0\n",
      "/content/gdrive/My Drive/TensorFlow-2.x-YOLOv3/custom_dataset/train/dayride_type1_001.mp4#t=530.jpg 544,376,626,399,0\n",
      "/content/gdrive/My Drive/TensorFlow-2.x-YOLOv3/custom_dataset/train/dayride_type1_001.mp4#t=1466.jpg 522,398,634,430,0\n",
      "/content/gdrive/My Drive/TensorFlow-2.x-YOLOv3/custom_dataset/train/nightride_type3_001.mp4#t=110.jpg 363,574,615,641,0 1030,292,1120,319,0\n",
      "/content/gdrive/My Drive/TensorFlow-2.x-YOLOv3/custom_dataset/train/nightride_type3_001.mp4#t=161.jpg 576,368,689,403,0 1091,324,1192,355,0\n",
      "/content/gdrive/My Drive/TensorFlow-2.x-YOLOv3/custom_dataset/train/dayride_type1_001.mp4#t=1142.jpg 551,388,649,411,0 1080,419,1169,441,0\n",
      "/content/gdrive/My Drive/TensorFlow-2.x-YOLOv3/custom_dataset/train/dayride_type1_001.mp4#t=288.jpg 1061,561,1251,619,0\n",
      "/content/gdrive/My Drive/TensorFlow-2.x-YOLOv3/custom_dataset/train/nightride_type3_001.mp4#t=5.jpg 695,439,936,506,0 23,339,130,368,0\n",
      "/content/gdrive/My Drive/TensorFlow-2.x-YOLOv3/custom_dataset/train/nightride_type3_001.mp4#t=38.jpg 535,372,785,446,0\n",
      "/content/gdrive/My Drive/TensorFlow-2.x-YOLOv3/custom_dataset/train/dayride_type1_001.mp4#t=171.jpg 823,378,907,401,0\n",
      "/content/gdrive/My Drive/TensorFlow-2.x-YOLOv3/custom_dataset/train/dayride_type1_001.mp4#t=618.jpg 575,372,668,396,0\n",
      "/content/gdrive/My Drive/TensorFlow-2.x-YOLOv3/custom_dataset/train/dayride_type1_001.mp4#t=432.jpg 610,643,831,703,0 1033,384,1121,407,0\n",
      "/content/gdrive/My Drive/TensorFlow-2.x-YOLOv3/custom_dataset/train/nightride_type3_001.mp4#t=257.jpg 556,414,701,454,0\n",
      "/content/gdrive/My Drive/TensorFlow-2.x-YOLOv3/custom_dataset/train/dayride_type1_001.mp4#t=1510.jpg 869,357,945,379,0\n",
      "/content/gdrive/My Drive/TensorFlow-2.x-YOLOv3/custom_dataset/train/dayride_type1_001.mp4#t=1301.jpg 556,380,623,399,0\n",
      "/content/gdrive/My Drive/TensorFlow-2.x-YOLOv3/custom_dataset/train/dayride_type1_002.mp4#t=69.jpg 236,406,348,439,0\n",
      "/content/gdrive/My Drive/TensorFlow-2.x-YOLOv3/custom_dataset/train/dayride_type1_001.mp4#t=154.jpg 552,331,600,346,0\n",
      "/content/gdrive/My Drive/TensorFlow-2.x-YOLOv3/custom_dataset/train/dayride_type1_001.mp4#t=298.jpg 696,409,773,432,0\n",
      "/content/gdrive/My Drive/TensorFlow-2.x-YOLOv3/custom_dataset/train/dayride_type1_001.mp4#t=1095.jpg 513,535,744,588,0 1074,425,1163,448,0 0,370,103,398,0\n",
      "/content/gdrive/My Drive/TensorFlow-2.x-YOLOv3/custom_dataset/train/nightride_type3_001.mp4#t=716.jpg 363,629,653,717,0\n",
      "/content/gdrive/My Drive/TensorFlow-2.x-YOLOv3/custom_dataset/train/dayride_type1_001.mp4#t=1129.jpg 539,323,621,345,0 937,320,1011,341,0\n",
      "/content/gdrive/My Drive/TensorFlow-2.x-YOLOv3/custom_dataset/train/nightride_type3_001.mp4#t=462.jpg 392,478,581,528,0\n",
      "/content/gdrive/My Drive/TensorFlow-2.x-YOLOv3/custom_dataset/train/dayride_type1_002.mp4#t=405.jpg 706,425,826,464,0\n",
      "/content/gdrive/My Drive/TensorFlow-2.x-YOLOv3/custom_dataset/train/dayride_type1_001.mp4#t=474.jpg 553,344,630,366,0\n",
      "/content/gdrive/My Drive/TensorFlow-2.x-YOLOv3/custom_dataset/train/dayride_type1_002.mp4#t=392.jpg 708,442,855,487,0 255,388,342,415,0\n",
      "/content/gdrive/My Drive/TensorFlow-2.x-YOLOv3/custom_dataset/train/dayride_type1_002.mp4#t=537.jpg 1041,447,1186,499,0\n",
      "/content/gdrive/My Drive/TensorFlow-2.x-YOLOv3/custom_dataset/train/dayride_type1_001.mp4#t=434.jpg 1088,397,1189,421,0\n",
      "/content/gdrive/My Drive/TensorFlow-2.x-YOLOv3/custom_dataset/train/dayride_type1_001.mp4#t=384.jpg 1061,440,1150,463,0\n",
      "/content/gdrive/My Drive/TensorFlow-2.x-YOLOv3/custom_dataset/train/dayride_type1_001.mp4#t=199.jpg 584,351,664,372,0\n",
      "/content/gdrive/My Drive/TensorFlow-2.x-YOLOv3/custom_dataset/train/dayride_type1_001.mp4#t=245.jpg 559,390,627,409,0\n",
      "/content/gdrive/My Drive/TensorFlow-2.x-YOLOv3/custom_dataset/train/dayride_type1_001.mp4#t=444.jpg 597,393,661,411,0\n",
      "/content/gdrive/My Drive/TensorFlow-2.x-YOLOv3/custom_dataset/train/dayride_type1_002.mp4#t=644.jpg 634,494,752,529,0\n",
      "/content/gdrive/My Drive/TensorFlow-2.x-YOLOv3/custom_dataset/train/nightride_type3_001.mp4#t=486.jpg 1021,376,1149,413,0\n",
      "/content/gdrive/My Drive/TensorFlow-2.x-YOLOv3/custom_dataset/train/dayride_type1_001.mp4#t=612.jpg 670,485,845,536,0\n",
      "/content/gdrive/My Drive/TensorFlow-2.x-YOLOv3/custom_dataset/train/nightride_type3_001.mp4#t=156.jpg 483,446,671,497,0\n",
      "/content/gdrive/My Drive/TensorFlow-2.x-YOLOv3/custom_dataset/train/dayride_type1_001.mp4#t=615.jpg 712,413,830,448,0\n",
      "/content/gdrive/My Drive/TensorFlow-2.x-YOLOv3/custom_dataset/train/dayride_type1_001.mp4#t=191.jpg 1038,378,1127,401,0\n",
      "/content/gdrive/My Drive/TensorFlow-2.x-YOLOv3/custom_dataset/train/dayride_type1_002.mp4#t=654.jpg 1149,504,1269,549,0 110,504,235,549,0\n",
      "/content/gdrive/My Drive/TensorFlow-2.x-YOLOv3/custom_dataset/train/dayride_type1_001.mp4#t=1119.jpg 586,408,676,431,0\n",
      "/content/gdrive/My Drive/TensorFlow-2.x-YOLOv3/custom_dataset/train/nightride_type3_001.mp4#t=16.jpg 676,328,810,364,0\n",
      "/content/gdrive/My Drive/TensorFlow-2.x-YOLOv3/custom_dataset/train/dayride_type1_003.mp4#t=45.jpg 874,364,999,397,0 0,458,102,496,0 650,386,716,407,0\n",
      "/content/gdrive/My Drive/TensorFlow-2.x-YOLOv3/custom_dataset/train/dayride_type1_001.mp4#t=86.jpg 477,434,694,487,0\n",
      "/content/gdrive/My Drive/TensorFlow-2.x-YOLOv3/custom_dataset/test\n",
      "/content/gdrive/My Drive/TensorFlow-2.x-YOLOv3/custom_dataset/test/dayride_type1_001.mp4#t=1549.jpg 568,413,652,438,0\n",
      "/content/gdrive/My Drive/TensorFlow-2.x-YOLOv3/custom_dataset/test/dayride_type1_001.mp4#t=913.jpg 555,381,636,403,0\n",
      "/content/gdrive/My Drive/TensorFlow-2.x-YOLOv3/custom_dataset/test/dayride_type1_002.mp4#t=244.jpg 828,510,1052,574,0\n",
      "/content/gdrive/My Drive/TensorFlow-2.x-YOLOv3/custom_dataset/test/nightride_type3_001.mp4#t=352.jpg 678,617,949,695,0 323,312,410,340,0\n",
      "/content/gdrive/My Drive/TensorFlow-2.x-YOLOv3/custom_dataset/test/dayride_type1_001.mp4#t=604.jpg 630,536,878,606,0\n",
      "/content/gdrive/My Drive/TensorFlow-2.x-YOLOv3/custom_dataset/test/dayride_type1_001.mp4#t=151.jpg 564,332,625,350,0\n",
      "/content/gdrive/My Drive/TensorFlow-2.x-YOLOv3/custom_dataset/test/dayride_type1_001.mp4#t=751.jpg 537,397,735,448,0\n",
      "/content/gdrive/My Drive/TensorFlow-2.x-YOLOv3/custom_dataset/test/dayride_type1_001.mp4#t=413.jpg 153,372,216,388,0 583,392,654,411,0\n",
      "/content/gdrive/My Drive/TensorFlow-2.x-YOLOv3/custom_dataset/test/dayride_type1_001.mp4#t=695.jpg 996,397,1117,429,0\n",
      "/content/gdrive/My Drive/TensorFlow-2.x-YOLOv3/custom_dataset/test/dayride_type1_001.mp4#t=1396.jpg 525,468,641,500,0\n",
      "/content/gdrive/My Drive/TensorFlow-2.x-YOLOv3/custom_dataset/test/dayride_type1_001.mp4#t=467.jpg 663,520,887,577,0\n",
      "/content/gdrive/My Drive/TensorFlow-2.x-YOLOv3/custom_dataset/test/dayride_type1_002.mp4#t=324.jpg 622,394,716,426,0\n",
      "/content/gdrive/My Drive/TensorFlow-2.x-YOLOv3/custom_dataset/test/dayride_type1_001.mp4#t=784.jpg 500,337,563,355,0\n",
      "/content/gdrive/My Drive/TensorFlow-2.x-YOLOv3/custom_dataset/test/nightride_type3_001.mp4#t=45.jpg 536,373,788,447,0\n",
      "/content/gdrive/My Drive/TensorFlow-2.x-YOLOv3/custom_dataset/test/nightride_type3_001.mp4#t=155.jpg 487,429,666,480,0\n",
      "/content/gdrive/My Drive/TensorFlow-2.x-YOLOv3/custom_dataset/test/dayride_type1_001.mp4#t=515.jpg 486,344,552,362,0 1153,425,1280,456,0\n",
      "/content/gdrive/My Drive/TensorFlow-2.x-YOLOv3/custom_dataset/test/dayride_type1_001.mp4#t=282.jpg 1007,645,1250,712,0\n",
      "/content/gdrive/My Drive/TensorFlow-2.x-YOLOv3/custom_dataset/test/dayride_type1_001.mp4#t=1141.jpg 561,382,654,405,0 976,391,1051,411,0\n",
      "/content/gdrive/My Drive/TensorFlow-2.x-YOLOv3/custom_dataset/test/nightride_type3_001.mp4#t=715.jpg 465,451,644,501,0 1120,288,1215,317,0\n",
      "/content/gdrive/My Drive/TensorFlow-2.x-YOLOv3/custom_dataset/test/dayride_type1_001.mp4#t=1412.jpg 567,372,644,392,0\n",
      "/content/gdrive/My Drive/TensorFlow-2.x-YOLOv3/custom_dataset/test/nightride_type3_001.mp4#t=116.jpg 385,450,562,502,0\n",
      "/content/gdrive/My Drive/TensorFlow-2.x-YOLOv3/custom_dataset/test/dayride_type1_001.mp4#t=581.jpg 1042,386,1138,416,0\n",
      "/content/gdrive/My Drive/TensorFlow-2.x-YOLOv3/custom_dataset/test/dayride_type1_003.mp4#t=296.jpg 1173,410,1267,436,0\n",
      "/content/gdrive/My Drive/TensorFlow-2.x-YOLOv3/custom_dataset/test/nightride_type3_001.mp4#t=404.jpg 562,327,657,356,0\n",
      "/content/gdrive/My Drive/TensorFlow-2.x-YOLOv3/custom_dataset/test/dayride_type1_002.mp4#t=792.jpg 614,574,762,611,0\n",
      "/content/gdrive/My Drive/TensorFlow-2.x-YOLOv3/custom_dataset/test/nightride_type3_001.mp4#t=386.jpg 720,385,848,421,0\n",
      "/content/gdrive/My Drive/TensorFlow-2.x-YOLOv3/custom_dataset/test/dayride_type1_003.mp4#t=100.jpg 663,638,911,698,0\n",
      "/content/gdrive/My Drive/TensorFlow-2.x-YOLOv3/custom_dataset/test/dayride_type1_001.mp4#t=1058.jpg 529,589,711,634,0\n",
      "/content/gdrive/My Drive/TensorFlow-2.x-YOLOv3/custom_dataset/test/dayride_type1_001.mp4#t=1392.jpg 483,583,674,631,0\n",
      "/content/gdrive/My Drive/TensorFlow-2.x-YOLOv3/custom_dataset/test/dayride_type1_001.mp4#t=616.jpg 706,410,820,441,0\n",
      "/content/gdrive/My Drive/TensorFlow-2.x-YOLOv3/custom_dataset/test/dayride_type1_002.mp4#t=643.jpg 609,465,709,496,0\n",
      "/content/gdrive/My Drive/TensorFlow-2.x-YOLOv3/custom_dataset/test/dayride_type1_001.mp4#t=1055.jpg 113,399,192,420,0 562,413,649,436,0\n",
      "/content/gdrive/My Drive/TensorFlow-2.x-YOLOv3/custom_dataset/test/nightride_type3_001.mp4#t=154.jpg 521,367,658,407,0\n",
      "/content/gdrive/My Drive/TensorFlow-2.x-YOLOv3/custom_dataset/test/dayride_type1_002.mp4#t=352.jpg 541,580,825,665,0 52,411,164,441,0\n",
      "/content/gdrive/My Drive/TensorFlow-2.x-YOLOv3/custom_dataset/test/dayride_type1_002.mp4#t=528.jpg 54,377,154,405,0 663,504,866,564,0\n",
      "/content/gdrive/My Drive/TensorFlow-2.x-YOLOv3/custom_dataset/test/dayride_type1_001.mp4#t=1094.jpg 0,369,104,398,0 519,537,741,587,0 1073,424,1164,449,0\n",
      "/content/gdrive/My Drive/TensorFlow-2.x-YOLOv3/custom_dataset/test/dayride_type1_001.mp4#t=589.jpg 553,369,636,392,0\n",
      "/content/gdrive/My Drive/TensorFlow-2.x-YOLOv3/custom_dataset/test/dayride_type1_001.mp4#t=1206.jpg 592,406,728,441,0 1153,446,1264,478,0\n",
      "/content/gdrive/My Drive/TensorFlow-2.x-YOLOv3/custom_dataset/test/dayride_type1_001.mp4#t=1182.jpg 535,448,719,495,0 1017,381,1101,404,0\n",
      "/content/gdrive/My Drive/TensorFlow-2.x-YOLOv3/custom_dataset/test/dayride_type1_001.mp4#t=1458.jpg 198,394,280,419,0\n",
      "/content/gdrive/My Drive/TensorFlow-2.x-YOLOv3/custom_dataset/test/dayride_type1_001.mp4#t=37.jpg 603,410,735,443,0\n",
      "/content/gdrive/My Drive/TensorFlow-2.x-YOLOv3/custom_dataset/test/dayride_type1_001.mp4#t=293.jpg 294,536,444,583,0\n",
      "/content/gdrive/My Drive/TensorFlow-2.x-YOLOv3/custom_dataset/test/dayride_type1_001.mp4#t=465.jpg 616,456,788,499,0\n",
      "/content/gdrive/My Drive/TensorFlow-2.x-YOLOv3/custom_dataset/test/dayride_type1_001.mp4#t=891.jpg 351,472,589,529,0\n",
      "/content/gdrive/My Drive/TensorFlow-2.x-YOLOv3/custom_dataset/test/dayride_type1_001.mp4#t=607.jpg 632,547,891,623,0\n",
      "/content/gdrive/My Drive/TensorFlow-2.x-YOLOv3/custom_dataset/test/nightride_type3_001.mp4#t=543.jpg 599,418,823,484,0\n",
      "/content/gdrive/My Drive/TensorFlow-2.x-YOLOv3/custom_dataset/test/dayride_type1_001.mp4#t=777.jpg 565,364,684,393,0\n",
      "/content/gdrive/My Drive/TensorFlow-2.x-YOLOv3/custom_dataset/test/dayride_type1_001.mp4#t=788.jpg 499,351,582,372,0\n",
      "/content/gdrive/My Drive/TensorFlow-2.x-YOLOv3/custom_dataset/test/dayride_type1_001.mp4#t=153.jpg 562,336,616,352,0\n",
      "/content/gdrive/My Drive/TensorFlow-2.x-YOLOv3/custom_dataset/test/nightride_type3_001.mp4#t=586.jpg 573,433,810,504,0\n",
      "/content/gdrive/My Drive/TensorFlow-2.x-YOLOv3/custom_dataset/test/dayride_type1_003.mp4#t=89.jpg 561,348,634,372,0\n",
      "/content/gdrive/My Drive/TensorFlow-2.x-YOLOv3/custom_dataset/test/dayride_type1_001.mp4#t=163.jpg 894,331,951,346,0\n",
      "/content/gdrive/My Drive/TensorFlow-2.x-YOLOv3/custom_dataset/test/dayride_type1_002.mp4#t=657.jpg 305,414,397,445,0\n",
      "/content/gdrive/My Drive/TensorFlow-2.x-YOLOv3/custom_dataset/test/dayride_type1_001.mp4#t=596.jpg 621,497,843,561,0\n",
      "/content/gdrive/My Drive/TensorFlow-2.x-YOLOv3/custom_dataset/test/dayride_type1_003.mp4#t=46.jpg 643,404,718,426,0 940,392,1116,442,0\n",
      "/content/gdrive/My Drive/TensorFlow-2.x-YOLOv3/custom_dataset/test/dayride_type1_001.mp4#t=485.jpg 600,589,783,639,0\n",
      "/content/gdrive/My Drive/TensorFlow-2.x-YOLOv3/custom_dataset/test/dayride_type1_001.mp4#t=676.jpg 575,368,643,388,0\n",
      "/content/gdrive/My Drive/TensorFlow-2.x-YOLOv3/custom_dataset/test/dayride_type1_001.mp4#t=792.jpg 541,347,623,368,0\n",
      "/content/gdrive/My Drive/TensorFlow-2.x-YOLOv3/custom_dataset/test/nightride_type3_001.mp4#t=64.jpg 628,408,777,448,0\n",
      "/content/gdrive/My Drive/TensorFlow-2.x-YOLOv3/custom_dataset/test/dayride_type1_001.mp4#t=1135.jpg 645,417,767,449,0\n",
      "/content/gdrive/My Drive/TensorFlow-2.x-YOLOv3/custom_dataset/test/nightride_type3_001.mp4#t=55.jpg 746,267,865,301,0\n",
      "/content/gdrive/My Drive/TensorFlow-2.x-YOLOv3/custom_dataset/test/dayride_type1_001.mp4#t=684.jpg 573,351,631,370,0\n",
      "/content/gdrive/My Drive/TensorFlow-2.x-YOLOv3/custom_dataset/test/dayride_type1_001.mp4#t=201.jpg 846,418,968,451,0\n",
      "/content/gdrive/My Drive/TensorFlow-2.x-YOLOv3/custom_dataset/test/nightride_type3_001.mp4#t=475.jpg 707,320,785,345,0 1166,360,1263,390,0\n",
      "/content/gdrive/My Drive/TensorFlow-2.x-YOLOv3/custom_dataset/test/dayride_type1_001.mp4#t=824.jpg 696,589,893,637,0\n",
      "/content/gdrive/My Drive/TensorFlow-2.x-YOLOv3/custom_dataset/test/dayride_type1_001.mp4#t=1130.jpg 408,385,544,419,0 898,341,975,363,0\n",
      "/content/gdrive/My Drive/TensorFlow-2.x-YOLOv3/custom_dataset/test/dayride_type1_001.mp4#t=1074.jpg 601,506,726,540,0\n",
      "/content/gdrive/My Drive/TensorFlow-2.x-YOLOv3/custom_dataset/test/dayride_type1_001.mp4#t=1174.jpg 849,390,919,408,0\n",
      "/content/gdrive/My Drive/TensorFlow-2.x-YOLOv3/custom_dataset/test/dayride_type1_001.mp4#t=517.jpg 1069,408,1177,436,0 457,373,551,401,0\n",
      "/content/gdrive/My Drive/TensorFlow-2.x-YOLOv3/custom_dataset/test/dayride_type1_001.mp4#t=772.jpg 571,400,753,443,0\n",
      "/content/gdrive/My Drive/TensorFlow-2.x-YOLOv3/custom_dataset/test/dayride_type1_001.mp4#t=1193.jpg 540,425,699,464,0 1034,385,1121,408,0\n",
      "/content/gdrive/My Drive/TensorFlow-2.x-YOLOv3/custom_dataset/test/dayride_type1_001.mp4#t=912.jpg 605,387,689,411,0\n",
      "/content/gdrive/My Drive/TensorFlow-2.x-YOLOv3/custom_dataset/test/dayride_type1_001.mp4#t=816.jpg 304,384,373,403,0\n",
      "/content/gdrive/My Drive/TensorFlow-2.x-YOLOv3/custom_dataset/test/dayride_type1_001.mp4#t=594.jpg 598,389,709,420,0\n",
      "/content/gdrive/My Drive/TensorFlow-2.x-YOLOv3/custom_dataset/test/dayride_type1_002.mp4#t=817.jpg 791,580,1064,665,0\n",
      "/content/gdrive/My Drive/TensorFlow-2.x-YOLOv3/custom_dataset/test/dayride_type1_001.mp4#t=808.jpg 566,466,693,498,0\n",
      "/content/gdrive/My Drive/TensorFlow-2.x-YOLOv3/custom_dataset/test/dayride_type1_001.mp4#t=779.jpg 362,336,447,358,0\n",
      "/content/gdrive/My Drive/TensorFlow-2.x-YOLOv3/custom_dataset/test/dayride_type1_001.mp4#t=1192.jpg 536,450,718,494,0 1035,386,1120,408,0 158,344,243,366,0\n",
      "/content/gdrive/My Drive/TensorFlow-2.x-YOLOv3/custom_dataset/test/dayride_type1_001.mp4#t=555.jpg 957,352,1036,374,0 558,336,614,352,0\n",
      "/content/gdrive/My Drive/TensorFlow-2.x-YOLOv3/custom_dataset/test/nightride_type3_001.mp4#t=472.jpg 544,326,633,354,0 1113,375,1229,410,0\n",
      "/content/gdrive/My Drive/TensorFlow-2.x-YOLOv3/custom_dataset/test/dayride_type1_001.mp4#t=903.jpg 638,323,700,341,0\n",
      "/content/gdrive/My Drive/TensorFlow-2.x-YOLOv3/custom_dataset/test/dayride_type1_002.mp4#t=323.jpg 607,373,689,401,0\n",
      "/content/gdrive/My Drive/TensorFlow-2.x-YOLOv3/custom_dataset/test/dayride_type1_001.mp4#t=773.jpg 587,391,741,429,0\n",
      "/content/gdrive/My Drive/TensorFlow-2.x-YOLOv3/custom_dataset/test/dayride_type1_001.mp4#t=203.jpg 14,504,213,566,0\n",
      "/content/gdrive/My Drive/TensorFlow-2.x-YOLOv3/custom_dataset/test/dayride_type1_002.mp4#t=235.jpg 827,511,1050,574,0\n",
      "/content/gdrive/My Drive/TensorFlow-2.x-YOLOv3/custom_dataset/test/nightride_type3_001.mp4#t=52.jpg 588,286,708,322,0\n",
      "/content/gdrive/My Drive/TensorFlow-2.x-YOLOv3/custom_dataset/test/dayride_type1_001.mp4#t=172.jpg 854,378,927,398,0\n",
      "/content/gdrive/My Drive/TensorFlow-2.x-YOLOv3/custom_dataset/test/dayride_type1_003.mp4#t=97.jpg 669,487,811,528,0\n",
      "/content/gdrive/My Drive/TensorFlow-2.x-YOLOv3/custom_dataset/test/dayride_type1_001.mp4#t=1198.jpg 477,543,754,609,0 1175,429,1280,459,0\n",
      "/content/gdrive/My Drive/TensorFlow-2.x-YOLOv3/custom_dataset/test/dayride_type1_003.mp4#t=320.jpg 626,529,866,593,0\n",
      "/content/gdrive/My Drive/TensorFlow-2.x-YOLOv3/custom_dataset/test/nightride_type3_001.mp4#t=582.jpg 607,291,711,321,0\n",
      "/content/gdrive/My Drive/TensorFlow-2.x-YOLOv3/custom_dataset/test/dayride_type1_003.mp4#t=33.jpg 73,395,188,438,0\n",
      "/content/gdrive/My Drive/TensorFlow-2.x-YOLOv3/custom_dataset/test/nightride_type3_001.mp4#t=2.jpg 693,442,943,508,0\n",
      "/content/gdrive/My Drive/TensorFlow-2.x-YOLOv3/custom_dataset/test/dayride_type1_003.mp4#t=95.jpg 146,483,257,523,0\n",
      "/content/gdrive/My Drive/TensorFlow-2.x-YOLOv3/custom_dataset/test/dayride_type1_001.mp4#t=85.jpg 515,375,664,416,0\n",
      "/content/gdrive/My Drive/TensorFlow-2.x-YOLOv3/custom_dataset/test/dayride_type1_001.mp4#t=522.jpg 901,368,997,392,0 309,542,569,611,0\n",
      "/content/gdrive/My Drive/TensorFlow-2.x-YOLOv3/custom_dataset/test/dayride_type1_002.mp4#t=75.jpg 97,608,310,679,0\n",
      "/content/gdrive/My Drive/TensorFlow-2.x-YOLOv3/custom_dataset/test/dayride_type1_001.mp4#t=793.jpg 538,337,619,357,0\n",
      "/content/gdrive/My Drive/TensorFlow-2.x-YOLOv3/custom_dataset/test/dayride_type1_001.mp4#t=491.jpg 144,351,212,369,0 519,389,584,405,0\n",
      "/content/gdrive/My Drive/TensorFlow-2.x-YOLOv3/custom_dataset/test/nightride_type3_001.mp4#t=163.jpg 525,405,679,449,0\n",
      "/content/gdrive/My Drive/TensorFlow-2.x-YOLOv3/custom_dataset/test/dayride_type1_003.mp4#t=44.jpg 822,344,909,371,0\n",
      "/content/gdrive/My Drive/TensorFlow-2.x-YOLOv3/custom_dataset/test/dayride_type1_001.mp4#t=147.jpg 621,333,667,348,0\n",
      "/content/gdrive/My Drive/TensorFlow-2.x-YOLOv3/custom_dataset/test/nightride_type3_001.mp4#t=358.jpg 0,410,144,452,0\n",
      "/content/gdrive/My Drive/TensorFlow-2.x-YOLOv3/custom_dataset/test/dayride_type1_001.mp4#t=595.jpg 626,432,772,470,0\n",
      "/content/gdrive/My Drive/TensorFlow-2.x-YOLOv3/custom_dataset/test/dayride_type1_001.mp4#t=1456.jpg 50,452,164,483,0\n",
      "/content/gdrive/My Drive/TensorFlow-2.x-YOLOv3/custom_dataset/test/dayride_type1_001.mp4#t=771.jpg 555,408,754,454,0\n",
      "/content/gdrive/My Drive/TensorFlow-2.x-YOLOv3/custom_dataset/test/dayride_type1_001.mp4#t=1085.jpg 583,346,662,367,0\n",
      "Dataset_names: ['license-plate']\n"
     ]
    }
   ],
   "source": [
    "!python tools/XML_to_YOLOv3.py"
   ]
  },
  {
   "cell_type": "markdown",
   "metadata": {
    "colab_type": "text",
    "id": "5CYGwaPfV3H6"
   },
   "source": [
    "**Start training custom model:**"
   ]
  },
  {
   "cell_type": "code",
   "execution_count": 5,
   "metadata": {
    "colab": {
     "base_uri": "https://localhost:8080/",
     "height": 1000
    },
    "colab_type": "code",
    "executionInfo": {
     "elapsed": 7335711,
     "status": "ok",
     "timestamp": 1589546087079,
     "user": {
      "displayName": "Python Lessons",
      "photoUrl": "https://lh3.googleusercontent.com/a-/AOh14GgMQmMhFapKcavl337-vY17yrbowBHBlZQ5qYQv=s64",
      "userId": "12382394757900236362"
     },
     "user_tz": -180
    },
    "id": "rUxAdSEQEdpG",
    "outputId": "d1160f98-4fa8-4636-ffcc-7df8180f0988"
   },
   "outputs": [
    {
     "ename": "KeyboardInterrupt",
     "evalue": "",
     "output_type": "error",
     "traceback": [
      "\u001b[0;31m---------------------------------------------------------------------------\u001b[0m",
      "\u001b[0;31mKeyboardInterrupt\u001b[0m                         Traceback (most recent call last)",
      "\u001b[0;32m<ipython-input-5-d3b57c84a38f>\u001b[0m in \u001b[0;36m<module>\u001b[0;34m\u001b[0m\n\u001b[1;32m      1\u001b[0m \u001b[0;32mfrom\u001b[0m \u001b[0mtrain\u001b[0m \u001b[0;32mimport\u001b[0m \u001b[0;34m*\u001b[0m\u001b[0;34m\u001b[0m\u001b[0;34m\u001b[0m\u001b[0m\n\u001b[1;32m      2\u001b[0m \u001b[0mtf\u001b[0m\u001b[0;34m.\u001b[0m\u001b[0mkeras\u001b[0m\u001b[0;34m.\u001b[0m\u001b[0mbackend\u001b[0m\u001b[0;34m.\u001b[0m\u001b[0mclear_session\u001b[0m\u001b[0;34m(\u001b[0m\u001b[0;34m)\u001b[0m\u001b[0;34m\u001b[0m\u001b[0;34m\u001b[0m\u001b[0m\n\u001b[0;32m----> 3\u001b[0;31m \u001b[0mmain\u001b[0m\u001b[0;34m(\u001b[0m\u001b[0;34m)\u001b[0m\u001b[0;34m\u001b[0m\u001b[0;34m\u001b[0m\u001b[0m\n\u001b[0m",
      "\u001b[0;32m~/Projects/osmo/ML/TensorFlow-2.x-YOLOv3/train.py\u001b[0m in \u001b[0;36mmain\u001b[0;34m()\u001b[0m\n\u001b[1;32m    132\u001b[0m     \u001b[0;32mfor\u001b[0m \u001b[0mepoch\u001b[0m \u001b[0;32min\u001b[0m \u001b[0mrange\u001b[0m\u001b[0;34m(\u001b[0m\u001b[0mTRAIN_EPOCHS\u001b[0m\u001b[0;34m)\u001b[0m\u001b[0;34m:\u001b[0m\u001b[0;34m\u001b[0m\u001b[0;34m\u001b[0m\u001b[0m\n\u001b[1;32m    133\u001b[0m         \u001b[0;32mfor\u001b[0m \u001b[0mimage_data\u001b[0m\u001b[0;34m,\u001b[0m \u001b[0mtarget\u001b[0m \u001b[0;32min\u001b[0m \u001b[0mtrainset\u001b[0m\u001b[0;34m:\u001b[0m\u001b[0;34m\u001b[0m\u001b[0;34m\u001b[0m\u001b[0m\n\u001b[0;32m--> 134\u001b[0;31m             \u001b[0mresults\u001b[0m \u001b[0;34m=\u001b[0m \u001b[0mtrain_step\u001b[0m\u001b[0;34m(\u001b[0m\u001b[0mimage_data\u001b[0m\u001b[0;34m,\u001b[0m \u001b[0mtarget\u001b[0m\u001b[0;34m)\u001b[0m\u001b[0;34m\u001b[0m\u001b[0;34m\u001b[0m\u001b[0m\n\u001b[0m\u001b[1;32m    135\u001b[0m             \u001b[0mcur_step\u001b[0m \u001b[0;34m=\u001b[0m \u001b[0mresults\u001b[0m\u001b[0;34m[\u001b[0m\u001b[0;36m0\u001b[0m\u001b[0;34m]\u001b[0m\u001b[0;34m%\u001b[0m\u001b[0msteps_per_epoch\u001b[0m\u001b[0;34m\u001b[0m\u001b[0;34m\u001b[0m\u001b[0m\n\u001b[1;32m    136\u001b[0m             print(\"epoch:{:2.0f} step:{:5.0f}/{}, lr:{:.6f}, giou_loss:{:7.2f}, conf_loss:{:7.2f}, prob_loss:{:7.2f}, total_loss:{:7.2f}\"\n",
      "\u001b[0;32m~/Projects/osmo/ML/TensorFlow-2.x-YOLOv3/train.py\u001b[0m in \u001b[0;36mtrain_step\u001b[0;34m(image_data, target)\u001b[0m\n\u001b[1;32m     85\u001b[0m             \u001b[0mtotal_loss\u001b[0m \u001b[0;34m=\u001b[0m \u001b[0mgiou_loss\u001b[0m \u001b[0;34m+\u001b[0m \u001b[0mconf_loss\u001b[0m \u001b[0;34m+\u001b[0m \u001b[0mprob_loss\u001b[0m\u001b[0;34m\u001b[0m\u001b[0;34m\u001b[0m\u001b[0m\n\u001b[1;32m     86\u001b[0m \u001b[0;34m\u001b[0m\u001b[0m\n\u001b[0;32m---> 87\u001b[0;31m             \u001b[0mgradients\u001b[0m \u001b[0;34m=\u001b[0m \u001b[0mtape\u001b[0m\u001b[0;34m.\u001b[0m\u001b[0mgradient\u001b[0m\u001b[0;34m(\u001b[0m\u001b[0mtotal_loss\u001b[0m\u001b[0;34m,\u001b[0m \u001b[0myolo\u001b[0m\u001b[0;34m.\u001b[0m\u001b[0mtrainable_variables\u001b[0m\u001b[0;34m)\u001b[0m\u001b[0;34m\u001b[0m\u001b[0;34m\u001b[0m\u001b[0m\n\u001b[0m\u001b[1;32m     88\u001b[0m             \u001b[0moptimizer\u001b[0m\u001b[0;34m.\u001b[0m\u001b[0mapply_gradients\u001b[0m\u001b[0;34m(\u001b[0m\u001b[0mzip\u001b[0m\u001b[0;34m(\u001b[0m\u001b[0mgradients\u001b[0m\u001b[0;34m,\u001b[0m \u001b[0myolo\u001b[0m\u001b[0;34m.\u001b[0m\u001b[0mtrainable_variables\u001b[0m\u001b[0;34m)\u001b[0m\u001b[0;34m)\u001b[0m\u001b[0;34m\u001b[0m\u001b[0;34m\u001b[0m\u001b[0m\n\u001b[1;32m     89\u001b[0m \u001b[0;34m\u001b[0m\u001b[0m\n",
      "\u001b[0;32m/usr/local/lib/python3.7/site-packages/tensorflow/python/eager/backprop.py\u001b[0m in \u001b[0;36mgradient\u001b[0;34m(self, target, sources, output_gradients, unconnected_gradients)\u001b[0m\n\u001b[1;32m   1046\u001b[0m         \u001b[0moutput_gradients\u001b[0m\u001b[0;34m=\u001b[0m\u001b[0moutput_gradients\u001b[0m\u001b[0;34m,\u001b[0m\u001b[0;34m\u001b[0m\u001b[0;34m\u001b[0m\u001b[0m\n\u001b[1;32m   1047\u001b[0m         \u001b[0msources_raw\u001b[0m\u001b[0;34m=\u001b[0m\u001b[0mflat_sources_raw\u001b[0m\u001b[0;34m,\u001b[0m\u001b[0;34m\u001b[0m\u001b[0;34m\u001b[0m\u001b[0m\n\u001b[0;32m-> 1048\u001b[0;31m         unconnected_gradients=unconnected_gradients)\n\u001b[0m\u001b[1;32m   1049\u001b[0m \u001b[0;34m\u001b[0m\u001b[0m\n\u001b[1;32m   1050\u001b[0m     \u001b[0;32mif\u001b[0m \u001b[0;32mnot\u001b[0m \u001b[0mself\u001b[0m\u001b[0;34m.\u001b[0m\u001b[0m_persistent\u001b[0m\u001b[0;34m:\u001b[0m\u001b[0;34m\u001b[0m\u001b[0;34m\u001b[0m\u001b[0m\n",
      "\u001b[0;32m/usr/local/lib/python3.7/site-packages/tensorflow/python/eager/imperative_grad.py\u001b[0m in \u001b[0;36mimperative_grad\u001b[0;34m(tape, target, sources, output_gradients, sources_raw, unconnected_gradients)\u001b[0m\n\u001b[1;32m     75\u001b[0m       \u001b[0moutput_gradients\u001b[0m\u001b[0;34m,\u001b[0m\u001b[0;34m\u001b[0m\u001b[0;34m\u001b[0m\u001b[0m\n\u001b[1;32m     76\u001b[0m       \u001b[0msources_raw\u001b[0m\u001b[0;34m,\u001b[0m\u001b[0;34m\u001b[0m\u001b[0;34m\u001b[0m\u001b[0m\n\u001b[0;32m---> 77\u001b[0;31m       compat.as_str(unconnected_gradients.value))\n\u001b[0m",
      "\u001b[0;32m/usr/local/lib/python3.7/site-packages/tensorflow/python/eager/backprop.py\u001b[0m in \u001b[0;36m_gradient_function\u001b[0;34m(op_name, attr_tuple, num_inputs, inputs, outputs, out_grads, skip_input_indices, forward_pass_name_scope)\u001b[0m\n\u001b[1;32m    155\u001b[0m       \u001b[0mgradient_name_scope\u001b[0m \u001b[0;34m=\u001b[0m \u001b[0;34m\"gradient_tape/\"\u001b[0m\u001b[0;34m\u001b[0m\u001b[0;34m\u001b[0m\u001b[0m\n\u001b[1;32m    156\u001b[0m     \u001b[0;32mwith\u001b[0m \u001b[0mops\u001b[0m\u001b[0;34m.\u001b[0m\u001b[0mname_scope\u001b[0m\u001b[0;34m(\u001b[0m\u001b[0mgradient_name_scope\u001b[0m\u001b[0;34m)\u001b[0m\u001b[0;34m:\u001b[0m\u001b[0;34m\u001b[0m\u001b[0;34m\u001b[0m\u001b[0m\n\u001b[0;32m--> 157\u001b[0;31m       \u001b[0;32mreturn\u001b[0m \u001b[0mgrad_fn\u001b[0m\u001b[0;34m(\u001b[0m\u001b[0mmock_op\u001b[0m\u001b[0;34m,\u001b[0m \u001b[0;34m*\u001b[0m\u001b[0mout_grads\u001b[0m\u001b[0;34m)\u001b[0m\u001b[0;34m\u001b[0m\u001b[0;34m\u001b[0m\u001b[0m\n\u001b[0m\u001b[1;32m    158\u001b[0m   \u001b[0;32melse\u001b[0m\u001b[0;34m:\u001b[0m\u001b[0;34m\u001b[0m\u001b[0;34m\u001b[0m\u001b[0m\n\u001b[1;32m    159\u001b[0m     \u001b[0;32mreturn\u001b[0m \u001b[0mgrad_fn\u001b[0m\u001b[0;34m(\u001b[0m\u001b[0mmock_op\u001b[0m\u001b[0;34m,\u001b[0m \u001b[0;34m*\u001b[0m\u001b[0mout_grads\u001b[0m\u001b[0;34m)\u001b[0m\u001b[0;34m\u001b[0m\u001b[0;34m\u001b[0m\u001b[0m\n",
      "\u001b[0;32m/usr/local/lib/python3.7/site-packages/tensorflow/python/ops/nn_grad.py\u001b[0m in \u001b[0;36m_LeakyReluGrad\u001b[0;34m(op, grad)\u001b[0m\n\u001b[1;32m    446\u001b[0m   \u001b[0mx\u001b[0m \u001b[0;34m=\u001b[0m \u001b[0mop\u001b[0m\u001b[0;34m.\u001b[0m\u001b[0minputs\u001b[0m\u001b[0;34m[\u001b[0m\u001b[0;36m0\u001b[0m\u001b[0;34m]\u001b[0m\u001b[0;34m\u001b[0m\u001b[0;34m\u001b[0m\u001b[0m\n\u001b[1;32m    447\u001b[0m   \u001b[0malpha\u001b[0m \u001b[0;34m=\u001b[0m \u001b[0mop\u001b[0m\u001b[0;34m.\u001b[0m\u001b[0mget_attr\u001b[0m\u001b[0;34m(\u001b[0m\u001b[0;34m\"alpha\"\u001b[0m\u001b[0;34m)\u001b[0m\u001b[0;34m\u001b[0m\u001b[0;34m\u001b[0m\u001b[0m\n\u001b[0;32m--> 448\u001b[0;31m   \u001b[0;32mreturn\u001b[0m \u001b[0mgen_nn_ops\u001b[0m\u001b[0;34m.\u001b[0m\u001b[0mleaky_relu_grad\u001b[0m\u001b[0;34m(\u001b[0m\u001b[0mgrad\u001b[0m\u001b[0;34m,\u001b[0m \u001b[0mx\u001b[0m\u001b[0;34m,\u001b[0m \u001b[0malpha\u001b[0m\u001b[0;34m=\u001b[0m\u001b[0malpha\u001b[0m\u001b[0;34m)\u001b[0m\u001b[0;34m\u001b[0m\u001b[0;34m\u001b[0m\u001b[0m\n\u001b[0m\u001b[1;32m    449\u001b[0m \u001b[0;34m\u001b[0m\u001b[0m\n\u001b[1;32m    450\u001b[0m \u001b[0;34m\u001b[0m\u001b[0m\n",
      "\u001b[0;32m/usr/local/lib/python3.7/site-packages/tensorflow/python/ops/gen_nn_ops.py\u001b[0m in \u001b[0;36mleaky_relu_grad\u001b[0;34m(gradients, features, alpha, name)\u001b[0m\n\u001b[1;32m   5070\u001b[0m       _result = pywrap_tfe.TFE_Py_FastPathExecute(\n\u001b[1;32m   5071\u001b[0m         \u001b[0m_ctx\u001b[0m\u001b[0;34m.\u001b[0m\u001b[0m_context_handle\u001b[0m\u001b[0;34m,\u001b[0m \u001b[0mtld\u001b[0m\u001b[0;34m.\u001b[0m\u001b[0mdevice_name\u001b[0m\u001b[0;34m,\u001b[0m \u001b[0;34m\"LeakyReluGrad\"\u001b[0m\u001b[0;34m,\u001b[0m \u001b[0mname\u001b[0m\u001b[0;34m,\u001b[0m\u001b[0;34m\u001b[0m\u001b[0;34m\u001b[0m\u001b[0m\n\u001b[0;32m-> 5072\u001b[0;31m         tld.op_callbacks, gradients, features, \"alpha\", alpha)\n\u001b[0m\u001b[1;32m   5073\u001b[0m       \u001b[0;32mreturn\u001b[0m \u001b[0m_result\u001b[0m\u001b[0;34m\u001b[0m\u001b[0;34m\u001b[0m\u001b[0m\n\u001b[1;32m   5074\u001b[0m     \u001b[0;32mexcept\u001b[0m \u001b[0m_core\u001b[0m\u001b[0;34m.\u001b[0m\u001b[0m_FallbackException\u001b[0m\u001b[0;34m:\u001b[0m\u001b[0;34m\u001b[0m\u001b[0;34m\u001b[0m\u001b[0m\n",
      "\u001b[0;31mKeyboardInterrupt\u001b[0m: "
     ]
    }
   ],
   "source": [
    "from train import *\n",
    "tf.keras.backend.clear_session()\n",
    "main()"
   ]
  },
  {
   "cell_type": "markdown",
   "metadata": {
    "colab_type": "text",
    "id": "7YNbZxosPRNw"
   },
   "source": [
    "**Create Yolo v3 custom model and load custom trained weights**"
   ]
  },
  {
   "cell_type": "code",
   "execution_count": 21,
   "metadata": {
    "colab": {
     "base_uri": "https://localhost:8080/",
     "height": 34
    },
    "colab_type": "code",
    "executionInfo": {
     "elapsed": 14228,
     "status": "ok",
     "timestamp": 1590585655101,
     "user": {
      "displayName": "Python Lessons",
      "photoUrl": "https://lh3.googleusercontent.com/a-/AOh14GgMQmMhFapKcavl337-vY17yrbowBHBlZQ5qYQv=s64",
      "userId": "12382394757900236362"
     },
     "user_tz": -180
    },
    "id": "W5CuaoSI3KRm",
    "outputId": "ce230a6d-934a-49d6-b711-3d0a94746740"
   },
   "outputs": [
    {
     "name": "stdout",
     "output_type": "stream",
     "text": [
      "<tensorflow.python.keras.engine.training.Model object at 0x16af8cc10>\n"
     ]
    },
    {
     "data": {
      "text/plain": [
       "<tensorflow.python.training.tracking.util.CheckpointLoadStatus at 0x16b1cf110>"
      ]
     },
     "execution_count": 21,
     "metadata": {},
     "output_type": "execute_result"
    }
   ],
   "source": [
    "yolo = Create_Yolov3(input_size=input_size, CLASSES=TRAIN_CLASSES)\n",
    "print(yolo)\n",
    "yolo.load_weights(\"/Users/gandalf/Projects/osmo/ML/final_tensor/checkpoints/yolov3_pizza_co_val_loss_1295.35\") # use keras weights"
   ]
  },
  {
   "cell_type": "markdown",
   "metadata": {
    "colab_type": "text",
    "id": "dwqeCYh_PTuw"
   },
   "source": [
    "**Test the detection with `IMAGES/plate_2.jpg` image**"
   ]
  },
  {
   "cell_type": "code",
   "execution_count": 41,
   "metadata": {
    "colab": {
     "base_uri": "https://localhost:8080/",
     "height": 883
    },
    "colab_type": "code",
    "executionInfo": {
     "elapsed": 2860,
     "status": "ok",
     "timestamp": 1590585736302,
     "user": {
      "displayName": "Python Lessons",
      "photoUrl": "https://lh3.googleusercontent.com/a-/AOh14GgMQmMhFapKcavl337-vY17yrbowBHBlZQ5qYQv=s64",
      "userId": "12382394757900236362"
     },
     "user_tz": -180
    },
    "id": "bx94uGmLPJz5",
    "outputId": "279aa7cf-5550-4dea-d06f-8eb7fbfff239"
   },
   "outputs": [
    {
     "data": {
      "text/plain": [
       "<matplotlib.collections.PathCollection at 0x16bc19550>"
      ]
     },
     "execution_count": 41,
     "metadata": {},
     "output_type": "execute_result"
    },
    {
     "data": {
      "image/png": "[encoded data removed]",
      "text/plain": [
       "<Figure size 2160x1080 with 1 Axes>"
      ]
     },
     "metadata": {
      "needs_background": "light"
     },
     "output_type": "display_data"
    }
   ],
   "source": [
    "image_path   = \"/Users/gandalf/Projects/osmo/ML/final_tensor/model_data/train_data/example3.jpg\"\n",
    "image,pred = detect_image(yolo, image_path, \"\", input_size=input_size, show=False, CLASSES=TRAIN_CLASSES, score_threshold = 0.3, rectangle_colors=(255,0,0))\n",
    "image = cv2.cvtColor(image, cv2.COLOR_BGR2RGB)\n",
    "\n",
    "\n",
    "plt.figure(figsize=(30,15))\n",
    "plt.imshow(image)\n",
    "plt.scatter(46,45)\n",
    "plt.scatter(59,58)"
   ]
  },
  {
   "cell_type": "markdown",
   "metadata": {
    "colab_type": "text",
    "id": "7dKA8DYOj8d-"
   },
   "source": [
    "# **You just trained your first Yolo v3 custom object detector on google colab, GOOD JOB!!**"
   ]
  },
  {
   "cell_type": "code",
   "execution_count": 0,
   "metadata": {
    "colab": {},
    "colab_type": "code",
    "id": "LQHYhLbEkZxh"
   },
   "outputs": [],
   "source": []
  }
 ],
 "metadata": {
  "accelerator": "GPU",
  "colab": {
   "authorship_tag": "ABX9TyOB0I3ikjcm9I2jjlrkl/C+",
   "collapsed_sections": [],
   "name": "YOLOv3_colab_training.ipynb",
   "provenance": []
  },
  "kernelspec": {
   "display_name": "Python 3",
   "language": "python",
   "name": "python3"
  },
  "language_info": {
   "codemirror_mode": {
    "name": "ipython",
    "version": 3
   },
   "file_extension": ".py",
   "mimetype": "text/x-python",
   "name": "python",
   "nbconvert_exporter": "python",
   "pygments_lexer": "ipython3",
   "version": "3.7.7"
  }
 },
 "nbformat": 4,
 "nbformat_minor": 1
}
